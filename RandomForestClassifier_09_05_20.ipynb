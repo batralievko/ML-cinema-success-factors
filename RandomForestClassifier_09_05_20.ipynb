{
 "cells": [
  {
   "cell_type": "code",
   "execution_count": 4,
   "metadata": {},
   "outputs": [],
   "source": [
    "import numpy as np\n",
    "import pandas as pd\n",
    "from IPython.display import display\n",
    "import matplotlib.pyplot as plt\n",
    "import seaborn as sns\n",
    "from sklearn.model_selection import train_test_split \n",
    "from sklearn.metrics import mean_squared_error, recall_score\n",
    "from sklearn.metrics import precision_score, f1_score\n",
    "from sklearn.model_selection import ShuffleSplit, GridSearchCV\n",
    "from sklearn.preprocessing import MinMaxScaler, StandardScaler, RobustScaler, Normalizer\n",
    "from sklearn.pipeline import Pipeline\n",
    "from sklearn.neighbors import KNeighborsClassifier\n",
    "from sklearn.svm import SVC\n",
    "import time\n",
    "from sklearn.metrics import roc_curve\n",
    "from sklearn.metrics import roc_auc_score"
   ]
  },
  {
   "cell_type": "code",
   "execution_count": 5,
   "metadata": {},
   "outputs": [
    {
     "name": "stderr",
     "output_type": "stream",
     "text": [
      "C:\\Users\\1\\Anaconda2\\lib\\site-packages\\sklearn\\preprocessing\\data.py:625: DataConversionWarning: Data with input dtype int64, float64 were all converted to float64 by StandardScaler.\n",
      "  return self.partial_fit(X, y)\n",
      "C:\\Users\\1\\Anaconda2\\lib\\site-packages\\ipykernel_launcher.py:31: DataConversionWarning: Data with input dtype int64, float64 were all converted to float64 by StandardScaler.\n",
      "C:\\Users\\1\\Anaconda2\\lib\\site-packages\\sklearn\\preprocessing\\data.py:625: DataConversionWarning: Data with input dtype int64, float64 were all converted to float64 by StandardScaler.\n",
      "  return self.partial_fit(X, y)\n",
      "C:\\Users\\1\\Anaconda2\\lib\\site-packages\\ipykernel_launcher.py:46: DataConversionWarning: Data with input dtype int64, float64 were all converted to float64 by StandardScaler.\n"
     ]
    }
   ],
   "source": [
    "df = pd.read_excel('C:/Users/1/Documents/Project/New_data/new_df_director.xlsx', index = False)\n",
    "\n",
    "def split_train_test(data,test_ratio):\n",
    "    shuffled_indices = np.random.permutation(len(data))\n",
    "    test_set_size = int(len(data) * test_ratio)\n",
    "    test_indices = shuffled_indices[:test_set_size]\n",
    "    train_indices = shuffled_indices[test_set_size:]\n",
    "    return data.iloc[train_indices],data.iloc[test_indices]\n",
    "\n",
    "train_set,test_set = split_train_test(df,0.2)\n",
    "\n",
    "# make X_train and Y_train\n",
    "\n",
    "copy_train_set = train_set.copy()\n",
    "copy_train_set['ln_Budget'] = np.log(copy_train_set['Budget'])\n",
    "attributes = (\n",
    "    [\n",
    "#         \"Len_genres\",\n",
    "#         \"Len_country\",\n",
    "        \"ln_Budget\", \n",
    "#         \"Len_production_co\", \n",
    "        \"Run_time\",\n",
    "#         \"Age_rating\",\n",
    "        \"Ex_year_writer\",\n",
    "        \"Ex_year_director\"\n",
    "    ]\n",
    ")\n",
    "scaler = StandardScaler()\n",
    "sample_for_predict = copy_train_set[attributes]\n",
    "scaler.fit(sample_for_predict)\n",
    "X_train = scaler.transform(sample_for_predict)\n",
    "condition = (\n",
    "    [\n",
    "        (copy_train_set['Imdb_rating'] > 7.5)\n",
    "    ]\n",
    ")\n",
    "choice = [1]\n",
    "y_train = np.select(condition, choice)\n",
    "\n",
    "# make X_test and Y_test\n",
    "\n",
    "copy_test_set = test_set.copy()\n",
    "copy_test_set['ln_Budget'] = np.log(copy_test_set['Budget'])\n",
    "sample_for_test = copy_test_set[attributes]\n",
    "scaler.fit(sample_for_test)\n",
    "X_test = scaler.transform(sample_for_test)\n",
    "\n",
    "condition = (\n",
    "    [\n",
    "        (copy_test_set['Imdb_rating'] > 7.5)\n",
    "    ]\n",
    ")\n",
    "y_test = np.select(condition, choice)"
   ]
  },
  {
   "cell_type": "code",
   "execution_count": 1,
   "metadata": {
    "scrolled": true
   },
   "outputs": [],
   "source": [
    "from tqdm import tqdm\n",
    "from sklearn.ensemble import RandomForestClassifier\n",
    "\n",
    "# n_estimators \n",
    "\n",
    "train_acc = []\n",
    "test_acc = []\n",
    "trees_grid = [int(x) for x in np.linspace(start = 1 , stop = 100, num = 100)]\n",
    "\n",
    "for ntrees in tqdm(trees_grid):\n",
    "    rfc = RandomForestClassifier(n_estimators=ntrees, random_state=42, n_jobs=-1)\n",
    "    rfc.fit(X_train, y_train)\n",
    "    train_acc.append(rfc.score(X_train, y_train))\n",
    "    test_acc.append(rfc.score(X_test, y_test))\n",
    "    \n",
    "train_acc, test_acc  = np.asarray(train_acc), np.asarray(test_acc)\n",
    "print(\"Best accuracy is {:.3f}% with {} trees\".format(max(test_acc), \n",
    "                                                        trees_grid[np.argmax(test_acc)]))\n",
    "\n",
    "\n",
    "plt.style.use('ggplot')\n",
    "%matplotlib inline\n",
    "fig, ax = plt.subplots(figsize=(8, 4))\n",
    "ax.plot(trees_grid, train_acc, alpha=0.5, color='blue', label='train')\n",
    "ax.plot(trees_grid, test_acc, alpha=0.5, color='red', label='cv')\n",
    "ax.legend(loc='best')\n",
    "ax.set_ylim([0.85,1.02])\n",
    "ax.set_ylabel(\"Accuracy\")\n",
    "ax.set_xlabel(\"N_estimators\")"
   ]
  },
  {
   "cell_type": "code",
   "execution_count": 9,
   "metadata": {
    "scrolled": false
   },
   "outputs": [
    {
     "name": "stderr",
     "output_type": "stream",
     "text": [
      "100%|██████████| 200/200 [01:24<00:00,  2.38it/s]\n"
     ]
    },
    {
     "name": "stdout",
     "output_type": "stream",
     "text": [
      "Best accuracy on CV is 0.91% with 5 max_depth\n"
     ]
    },
    {
     "data": {
      "text/plain": [
       "Text(0.5,0,'Min_samples_leaf')"
      ]
     },
     "execution_count": 9,
     "metadata": {},
     "output_type": "execute_result"
    },
    {
     "data": {
      "image/png": "[encoded data removed]",
      "text/plain": [
       "<Figure size 576x288 with 1 Axes>"
      ]
     },
     "metadata": {
      "needs_background": "light"
     },
     "output_type": "display_data"
    }
   ],
   "source": [
    "# max_depth\n",
    "\n",
    "train_acc = []\n",
    "test_acc = []\n",
    "max_depth_grid = [int(x) for x in np.linspace(3, 103, num = 200)]\n",
    "\n",
    "for max_depth in tqdm(max_depth_grid):\n",
    "    rfc = RandomForestClassifier(n_estimators=3, random_state=42, n_jobs=-1, max_depth=max_depth)\n",
    "    rfc.fit(X_train, y_train)\n",
    "    train_acc.append(rfc.score(X_train, y_train))\n",
    "    test_acc.append(rfc.score(X_test, y_test))\n",
    "\n",
    "train_acc, test_acc = np.asarray(train_acc), np.asarray(test_acc)\n",
    "print(\"Best accuracy on CV is {:.2f}% with {} max_depth\".format(max(test_acc), \n",
    "                                                        max_depth_grid[np.argmax(test_acc)]))\n",
    "\n",
    "\n",
    "\n",
    "fig, ax = plt.subplots(figsize=(8, 4))\n",
    "ax.plot(max_depth_grid, train_acc, alpha=0.5, color='blue', label='train')\n",
    "ax.plot(max_depth_grid, test_acc, alpha=0.5, color='red', label='cv')\n",
    "ax.legend(loc='best')\n",
    "ax.set_ylim([0.80,1.02])\n",
    "\n",
    "ax.set_ylabel(\"Accuracy\")\n",
    "ax.set_xlabel(\"Min_samples_leaf\")"
   ]
  },
  {
   "cell_type": "code",
   "execution_count": 8,
   "metadata": {},
   "outputs": [
    {
     "data": {
      "text/plain": [
       "array([[ 0.53545517,  0.96638883,  2.28008484, -0.64110011],\n",
       "       [ 0.73896301, -0.37416918, -0.04756572, -0.30401725],\n",
       "       [-0.4094667 , -0.47728903,  3.33810783,  0.70723131],\n",
       "       ...,\n",
       "       [ 0.72119944, -1.35380772, -0.25917032, -0.64110011],\n",
       "       [ 0.72119944,  0.96638883, -0.47077491, -0.64110011],\n",
       "       [ 1.2833184 , -0.4257291 , -0.47077491,  2.05556273]])"
      ]
     },
     "execution_count": 8,
     "metadata": {},
     "output_type": "execute_result"
    }
   ],
   "source": [
    "X_train"
   ]
  },
  {
   "cell_type": "code",
   "execution_count": 9,
   "metadata": {},
   "outputs": [
    {
     "data": {
      "text/plain": [
       "array([[ 0.54031798, -0.48809624,  0.94335418,  1.69132799],\n",
       "       [-0.00836129, -0.95140634,  1.55311873,  1.02032359],\n",
       "       [-0.83612553,  0.07817166,  1.95962843,  1.35582579],\n",
       "       ...,\n",
       "       [-0.05043145, -0.23070174, -0.47942976, -0.65718743],\n",
       "       [ 0.54031798,  0.28408726, -0.47942976, -0.65718743],\n",
       "       [ 0.66839875, -0.59105404, -0.47942976, -0.65718743]])"
      ]
     },
     "execution_count": 9,
     "metadata": {},
     "output_type": "execute_result"
    }
   ],
   "source": [
    "X_test"
   ]
  },
  {
   "cell_type": "code",
   "execution_count": 10,
   "metadata": {},
   "outputs": [
    {
     "data": {
      "text/plain": [
       "array([0, 0, 0, ..., 0, 1, 0])"
      ]
     },
     "execution_count": 10,
     "metadata": {},
     "output_type": "execute_result"
    }
   ],
   "source": [
    "y_train"
   ]
  },
  {
   "cell_type": "code",
   "execution_count": 11,
   "metadata": {},
   "outputs": [
    {
     "data": {
      "text/plain": [
       "array([0, 0, 0, ..., 0, 0, 0])"
      ]
     },
     "execution_count": 11,
     "metadata": {},
     "output_type": "execute_result"
    }
   ],
   "source": [
    "y_test"
   ]
  },
  {
   "cell_type": "code",
   "execution_count": 13,
   "metadata": {
    "scrolled": true
   },
   "outputs": [
    {
     "name": "stdout",
     "output_type": "stream",
     "text": [
      "Правильность на обучающем наборе: 0.918\n",
      "Правильность на тестовом наборе: 0.908\n",
      "Точность на обучающем наборе: 0.500\n"
     ]
    }
   ],
   "source": [
    "\n",
    "# X_train, X_test, y_train, y_test = train_test_split(data, target, random_state=42)\n",
    "\n",
    "rf = RandomForestClassifier(n_estimators = 48, max_depth = 5, random_state=42, n_jobs=-1)\n",
    "rf.fit(X_train, y_train)\n",
    "y_pred = rf.predict(X_test)\n",
    "\n",
    "\n",
    "\n",
    "print('Правильность на обучающем наборе: {:.3f}'.format(rf.score(X_train, y_train)))\n",
    "print('Правильность на тестовом наборе: {:.3f}'.format(rf.score(X_test, y_test)))\n",
    "print('Точность на обучающем наборе: {:.3f}'.format(precision_score(y_test, y_pred)))"
   ]
  },
  {
   "cell_type": "code",
   "execution_count": 25,
   "metadata": {},
   "outputs": [],
   "source": [
    "fpr, tpr, thresholds = roc_curve(y_test, y_pred)"
   ]
  },
  {
   "cell_type": "code",
   "execution_count": 26,
   "metadata": {},
   "outputs": [
    {
     "data": {
      "text/plain": [
       "array([0, 0, 0, ..., 0, 0, 0])"
      ]
     },
     "execution_count": 26,
     "metadata": {},
     "output_type": "execute_result"
    }
   ],
   "source": [
    "y_pred"
   ]
  },
  {
   "cell_type": "code",
   "execution_count": 27,
   "metadata": {},
   "outputs": [
    {
     "data": {
      "text/plain": [
       "0.5027077268294113"
      ]
     },
     "execution_count": 27,
     "metadata": {},
     "output_type": "execute_result"
    }
   ],
   "source": [
    "roc_auc_score(y_test,y_pred)"
   ]
  },
  {
   "cell_type": "code",
   "execution_count": 28,
   "metadata": {},
   "outputs": [],
   "source": [
    "def plot_roc_curve(fpr, tpr, label = None):\n",
    "    plt.plot(fpr, tpr, linewidth = 2, label = label)\n",
    "    plt.plot([0, 1], [0, 1], 'k--')\n",
    "    plt.axis([0,1,0,1])\n",
    "    plt.xlabel('False Positive Rate')\n",
    "    plt.ylabel('True Positive Rate')"
   ]
  }
 ],
 "metadata": {
  "kernelspec": {
   "display_name": "Python 2",
   "language": "python",
   "name": "python2"
  },
  "language_info": {
   "codemirror_mode": {
    "name": "ipython",
    "version": 2
   },
   "file_extension": ".py",
   "mimetype": "text/x-python",
   "name": "python",
   "nbconvert_exporter": "python",
   "pygments_lexer": "ipython2",
   "version": "2.7.15"
  }
 },
 "nbformat": 4,
 "nbformat_minor": 2
}
