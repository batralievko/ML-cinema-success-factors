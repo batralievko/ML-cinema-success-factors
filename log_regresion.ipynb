{
 "cells": [
  {
   "cell_type": "code",
   "execution_count": 145,
   "metadata": {},
   "outputs": [],
   "source": [
    "import numpy as np\n",
    "import pandas as pd\n",
    "from IPython.display import display\n",
    "import matplotlib.pyplot as plt\n",
    "import seaborn as sns\n",
    "from sklearn.model_selection import train_test_split \n",
    "from sklearn.metrics import mean_squared_error, recall_score\n",
    "from sklearn.metrics import precision_score, f1_score\n",
    "from sklearn.model_selection import ShuffleSplit, GridSearchCV\n",
    "from sklearn.preprocessing import MinMaxScaler, StandardScaler, RobustScaler, Normalizer\n",
    "from sklearn.pipeline import Pipeline\n",
    "from sklearn.neighbors import KNeighborsClassifier\n",
    "from sklearn.svm import SVC\n",
    "import time\n",
    "from sklearn.metrics import roc_curve\n",
    "from sklearn.metrics import roc_auc_score\n",
    "from sklearn.metrics import r2_score\n",
    "from sklearn.preprocessing import OneHotEncoder\n"
   ]
  },
  {
   "cell_type": "code",
   "execution_count": 146,
   "metadata": {},
   "outputs": [
    {
     "name": "stderr",
     "output_type": "stream",
     "text": [
      "C:\\Users\\1\\Anaconda2\\lib\\site-packages\\sklearn\\preprocessing\\data.py:625: DataConversionWarning: Data with input dtype int64, float64 were all converted to float64 by StandardScaler.\n",
      "  return self.partial_fit(X, y)\n",
      "C:\\Users\\1\\Anaconda2\\lib\\site-packages\\ipykernel_launcher.py:40: DataConversionWarning: Data with input dtype int64, float64 were all converted to float64 by StandardScaler.\n",
      "C:\\Users\\1\\Anaconda2\\lib\\site-packages\\sklearn\\preprocessing\\data.py:625: DataConversionWarning: Data with input dtype int64, float64 were all converted to float64 by StandardScaler.\n",
      "  return self.partial_fit(X, y)\n",
      "C:\\Users\\1\\Anaconda2\\lib\\site-packages\\ipykernel_launcher.py:64: DataConversionWarning: Data with input dtype int64, float64 were all converted to float64 by StandardScaler.\n"
     ]
    }
   ],
   "source": [
    "df = pd.read_excel('C:/Users/1/Documents/Project/New_data/new_df_director.xlsx', index = False)\n",
    "\n",
    "def split_train_test(data,test_ratio):\n",
    "    shuffled_indices = np.random.permutation(len(data))\n",
    "    test_set_size = int(len(data) * test_ratio)\n",
    "    test_indices = shuffled_indices[:test_set_size]\n",
    "    train_indices = shuffled_indices[test_set_size:]\n",
    "    return data.iloc[train_indices],data.iloc[test_indices]\n",
    "\n",
    "train_set,test_set = split_train_test(df,0.2)\n",
    "\n",
    "# make X_train and Y_train\n",
    "\n",
    "copy_train_set = train_set.copy()\n",
    "copy_train_set['ln_Budget'] = np.log(copy_train_set['Budget'])\n",
    "attributes = (\n",
    "    [\n",
    "#         \"Len_genres\",\n",
    "        \"Len_country\",\n",
    "        \"ln_Budget\", \n",
    "        \"Len_production_co\", \n",
    "        \"Run_time\",\n",
    "        \"Age_rating\",\n",
    "#         \"Ex_year_writer\",\n",
    "        \"Ex_year_director\"\n",
    "    ]\n",
    ")\n",
    "scaler = StandardScaler()\n",
    "sample_for_predict = copy_train_set[attributes]\n",
    "# key_word = copy_train_set['Key_word']\n",
    "# key_word_cat_encoded, key_word_categories = key_word.factorize()\n",
    "# encoder = OneHotEncoder()\n",
    "# key_word_1hot = (\n",
    "#     encoder.fit_transform(key_word_cat_encoded.reshape(-1,1))\n",
    "# )\n",
    "# kw = key_word_1hot.toarray()\n",
    "# sample_for_predict ['Key_word'] = key_word_cat_encoded\n",
    "\n",
    "scaler.fit(sample_for_predict)\n",
    "X_train = scaler.transform(sample_for_predict)\n",
    "condition = (\n",
    "    [\n",
    "        (copy_train_set['Imdb_rating'] > 7.5)\n",
    "    ]\n",
    ")\n",
    "choice = [1]\n",
    "y_train = np.select(condition, choice)\n",
    "\n",
    "# make X_test and Y_test\n",
    "\n",
    "copy_test_set = test_set.copy()\n",
    "copy_test_set['ln_Budget'] = np.log(copy_test_set['Budget'])\n",
    "sample_for_test = copy_test_set[attributes]\n",
    "# key_word = copy_test_set['Key_word']\n",
    "# key_word_cat_encoded, key_word_categories = key_word.factorize()\n",
    "# encoder = OneHotEncoder()\n",
    "# key_word_1hot = (\n",
    "#     encoder.fit_transform(key_word_cat_encoded.reshape(-1,1))\n",
    "# )\n",
    "# kw = key_word_1hot.toarray()\n",
    "# sample_for_test ['Key_word'] = key_word_cat_encoded\n",
    "\n",
    "scaler.fit(sample_for_test)\n",
    "X_test = scaler.transform(sample_for_test)\n",
    "\n",
    "condition = (\n",
    "    [\n",
    "        (copy_test_set['Imdb_rating'] > 7.5)\n",
    "    ]\n",
    ")\n",
    "y_test = np.select(condition, choice)"
   ]
  },
  {
   "cell_type": "code",
   "execution_count": 37,
   "metadata": {},
   "outputs": [
    {
     "data": {
      "text/html": [
       "<div>\n",
       "<style scoped>\n",
       "    .dataframe tbody tr th:only-of-type {\n",
       "        vertical-align: middle;\n",
       "    }\n",
       "\n",
       "    .dataframe tbody tr th {\n",
       "        vertical-align: top;\n",
       "    }\n",
       "\n",
       "    .dataframe thead th {\n",
       "        text-align: right;\n",
       "    }\n",
       "</style>\n",
       "<table border=\"1\" class=\"dataframe\">\n",
       "  <thead>\n",
       "    <tr style=\"text-align: right;\">\n",
       "      <th></th>\n",
       "      <th>Len_genres</th>\n",
       "      <th>Len_country</th>\n",
       "      <th>ln_Budget</th>\n",
       "      <th>Len_production_co</th>\n",
       "      <th>Run_time</th>\n",
       "      <th>Age_rating</th>\n",
       "      <th>Ex_year_writer</th>\n",
       "      <th>Ex_year_director</th>\n",
       "      <th>Key_word</th>\n",
       "    </tr>\n",
       "  </thead>\n",
       "  <tbody>\n",
       "    <tr>\n",
       "      <th>Len_genres</th>\n",
       "      <td>1.000000</td>\n",
       "      <td>0.119240</td>\n",
       "      <td>0.337663</td>\n",
       "      <td>0.142503</td>\n",
       "      <td>0.083845</td>\n",
       "      <td>-0.219016</td>\n",
       "      <td>0.107740</td>\n",
       "      <td>0.143882</td>\n",
       "      <td>0.054787</td>\n",
       "    </tr>\n",
       "    <tr>\n",
       "      <th>Len_country</th>\n",
       "      <td>0.119240</td>\n",
       "      <td>1.000000</td>\n",
       "      <td>0.139525</td>\n",
       "      <td>0.293892</td>\n",
       "      <td>0.073313</td>\n",
       "      <td>-0.001464</td>\n",
       "      <td>0.124067</td>\n",
       "      <td>0.152257</td>\n",
       "      <td>0.016623</td>\n",
       "    </tr>\n",
       "    <tr>\n",
       "      <th>ln_Budget</th>\n",
       "      <td>0.337663</td>\n",
       "      <td>0.139525</td>\n",
       "      <td>1.000000</td>\n",
       "      <td>0.296979</td>\n",
       "      <td>0.240651</td>\n",
       "      <td>-0.260673</td>\n",
       "      <td>0.244773</td>\n",
       "      <td>0.346135</td>\n",
       "      <td>0.093117</td>\n",
       "    </tr>\n",
       "    <tr>\n",
       "      <th>Len_production_co</th>\n",
       "      <td>0.142503</td>\n",
       "      <td>0.293892</td>\n",
       "      <td>0.296979</td>\n",
       "      <td>1.000000</td>\n",
       "      <td>0.036509</td>\n",
       "      <td>-0.026415</td>\n",
       "      <td>0.132512</td>\n",
       "      <td>0.191644</td>\n",
       "      <td>0.067152</td>\n",
       "    </tr>\n",
       "    <tr>\n",
       "      <th>Run_time</th>\n",
       "      <td>0.083845</td>\n",
       "      <td>0.073313</td>\n",
       "      <td>0.240651</td>\n",
       "      <td>0.036509</td>\n",
       "      <td>1.000000</td>\n",
       "      <td>0.059311</td>\n",
       "      <td>0.129621</td>\n",
       "      <td>0.191395</td>\n",
       "      <td>0.006203</td>\n",
       "    </tr>\n",
       "    <tr>\n",
       "      <th>Age_rating</th>\n",
       "      <td>-0.219016</td>\n",
       "      <td>-0.001464</td>\n",
       "      <td>-0.260673</td>\n",
       "      <td>-0.026415</td>\n",
       "      <td>0.059311</td>\n",
       "      <td>1.000000</td>\n",
       "      <td>-0.059307</td>\n",
       "      <td>-0.071181</td>\n",
       "      <td>-0.031731</td>\n",
       "    </tr>\n",
       "    <tr>\n",
       "      <th>Ex_year_writer</th>\n",
       "      <td>0.107740</td>\n",
       "      <td>0.124067</td>\n",
       "      <td>0.244773</td>\n",
       "      <td>0.132512</td>\n",
       "      <td>0.129621</td>\n",
       "      <td>-0.059307</td>\n",
       "      <td>1.000000</td>\n",
       "      <td>0.445284</td>\n",
       "      <td>0.040732</td>\n",
       "    </tr>\n",
       "    <tr>\n",
       "      <th>Ex_year_director</th>\n",
       "      <td>0.143882</td>\n",
       "      <td>0.152257</td>\n",
       "      <td>0.346135</td>\n",
       "      <td>0.191644</td>\n",
       "      <td>0.191395</td>\n",
       "      <td>-0.071181</td>\n",
       "      <td>0.445284</td>\n",
       "      <td>1.000000</td>\n",
       "      <td>0.071119</td>\n",
       "    </tr>\n",
       "    <tr>\n",
       "      <th>Key_word</th>\n",
       "      <td>0.054787</td>\n",
       "      <td>0.016623</td>\n",
       "      <td>0.093117</td>\n",
       "      <td>0.067152</td>\n",
       "      <td>0.006203</td>\n",
       "      <td>-0.031731</td>\n",
       "      <td>0.040732</td>\n",
       "      <td>0.071119</td>\n",
       "      <td>1.000000</td>\n",
       "    </tr>\n",
       "  </tbody>\n",
       "</table>\n",
       "</div>"
      ],
      "text/plain": [
       "                   Len_genres  Len_country  ln_Budget  Len_production_co  \\\n",
       "Len_genres           1.000000     0.119240   0.337663           0.142503   \n",
       "Len_country          0.119240     1.000000   0.139525           0.293892   \n",
       "ln_Budget            0.337663     0.139525   1.000000           0.296979   \n",
       "Len_production_co    0.142503     0.293892   0.296979           1.000000   \n",
       "Run_time             0.083845     0.073313   0.240651           0.036509   \n",
       "Age_rating          -0.219016    -0.001464  -0.260673          -0.026415   \n",
       "Ex_year_writer       0.107740     0.124067   0.244773           0.132512   \n",
       "Ex_year_director     0.143882     0.152257   0.346135           0.191644   \n",
       "Key_word             0.054787     0.016623   0.093117           0.067152   \n",
       "\n",
       "                   Run_time  Age_rating  Ex_year_writer  Ex_year_director  \\\n",
       "Len_genres         0.083845   -0.219016        0.107740          0.143882   \n",
       "Len_country        0.073313   -0.001464        0.124067          0.152257   \n",
       "ln_Budget          0.240651   -0.260673        0.244773          0.346135   \n",
       "Len_production_co  0.036509   -0.026415        0.132512          0.191644   \n",
       "Run_time           1.000000    0.059311        0.129621          0.191395   \n",
       "Age_rating         0.059311    1.000000       -0.059307         -0.071181   \n",
       "Ex_year_writer     0.129621   -0.059307        1.000000          0.445284   \n",
       "Ex_year_director   0.191395   -0.071181        0.445284          1.000000   \n",
       "Key_word           0.006203   -0.031731        0.040732          0.071119   \n",
       "\n",
       "                   Key_word  \n",
       "Len_genres         0.054787  \n",
       "Len_country        0.016623  \n",
       "ln_Budget          0.093117  \n",
       "Len_production_co  0.067152  \n",
       "Run_time           0.006203  \n",
       "Age_rating        -0.031731  \n",
       "Ex_year_writer     0.040732  \n",
       "Ex_year_director   0.071119  \n",
       "Key_word           1.000000  "
      ]
     },
     "execution_count": 37,
     "metadata": {},
     "output_type": "execute_result"
    }
   ],
   "source": [
    "sample_for_predict.corr()"
   ]
  },
  {
   "cell_type": "code",
   "execution_count": 4,
   "metadata": {},
   "outputs": [],
   "source": [
    "# нет линейной зависимости между признаками, не удаляем"
   ]
  },
  {
   "cell_type": "code",
   "execution_count": null,
   "metadata": {},
   "outputs": [],
   "source": [
    "from tqdm import tqdm\n",
    "from sklearn.linear_model import LinearRegression, LogisticRegression\n",
    "\n",
    "\n",
    "logreg = LogisticRegression(random_state=42)\n",
    "logreg.fit(X_train, y_train)\n",
    "train_acc.append(logreg.score(X_train, y_train))\n",
    "test_acc.append(logreg.score(X_test, y_test))\n",
    "    \n",
    "train_acc, test_acc  = np.asarray(train_acc), np.asarray(test_acc)\n",
    "\n",
    "print('LogisticRegression')\n",
    "print(\"Best accuracy is {:.3f}%\".format(max(test_acc), \n",
    "                                                        trees_grid[np.argmax(test_acc)]))\n",
    "\n",
    "\n",
    "plt.style.use('ggplot')\n",
    "%matplotlib inline\n",
    "fig, ax = plt.subplots(figsize=(8, 4))\n",
    "ax.plot(trees_grid, train_acc, alpha=0.5, color='blue', label='train')\n",
    "ax.plot(trees_grid, test_acc, alpha=0.5, color='red', label='cv')\n",
    "ax.legend(loc='best')\n",
    "ax.set_ylim([0.85,1.02])\n",
    "ax.set_ylabel(\"Accuracy\")"
   ]
  },
  {
   "cell_type": "code",
   "execution_count": 33,
   "metadata": {
    "scrolled": true
   },
   "outputs": [
    {
     "name": "stderr",
     "output_type": "stream",
     "text": [
      "100%|██████████| 100/100 [00:01<00:00, 57.87it/s]\n"
     ]
    },
    {
     "name": "stdout",
     "output_type": "stream",
     "text": [
      "LogisticRegression\n",
      "Best accuracy is 0.917% with 1 trees\n"
     ]
    },
    {
     "data": {
      "text/plain": [
       "Text(0.5,0,'N_estimators')"
      ]
     },
     "execution_count": 33,
     "metadata": {},
     "output_type": "execute_result"
    },
    {
     "data": {
      "image/png": "[encoded data removed]",
      "text/plain": [
       "<Figure size 576x288 with 1 Axes>"
      ]
     },
     "metadata": {
      "needs_background": "light"
     },
     "output_type": "display_data"
    }
   ],
   "source": [
    "from tqdm import tqdm\n",
    "from sklearn.linear_model import LinearRegression, LogisticRegression\n",
    "\n",
    "# n_estimators bb\n",
    "\n",
    "train_acc = []\n",
    "test_acc = []\n",
    "trees_grid = [int(x) for x in np.linspace(start = 1 , stop = 100, num = 100)]\n",
    "\n",
    "for ntrees in tqdm(trees_grid):\n",
    "    logreg = LogisticRegression(random_state=ntrees)\n",
    "    logreg.fit(X_train, y_train)\n",
    "    train_acc.append(logreg.score(X_train, y_train))\n",
    "    test_acc.append(logreg.score(X_test, y_test))\n",
    "    \n",
    "train_acc, test_acc  = np.asarray(train_acc), np.asarray(test_acc)\n",
    "print('LogisticRegression')\n",
    "print(\"Best accuracy is {:.3f}% with {} trees\".format(max(test_acc), \n",
    "                                                        trees_grid[np.argmax(test_acc)]))\n",
    "\n",
    "\n",
    "plt.style.use('ggplot')\n",
    "%matplotlib inline\n",
    "fig, ax = plt.subplots(figsize=(8, 4))\n",
    "ax.plot(trees_grid, train_acc, alpha=0.5, color='blue', label='train')\n",
    "ax.plot(trees_grid, test_acc, alpha=0.5, color='red', label='cv')\n",
    "ax.legend(loc='best')\n",
    "ax.set_ylim([0.85,1.02])\n",
    "ax.set_ylabel(\"Accuracy\")\n",
    "ax.set_xlabel(\"N_estimators\")"
   ]
  },
  {
   "cell_type": "code",
   "execution_count": 34,
   "metadata": {
    "scrolled": true
   },
   "outputs": [
    {
     "name": "stdout",
     "output_type": "stream",
     "text": [
      "Правильность на обучающем наборе: 0.912\n",
      "Правильность на тестовом наборе: 0.917\n",
      "Точность на тестовом наборе: 0.750\n"
     ]
    }
   ],
   "source": [
    "\n",
    "# X_train, X_test, y_train, y_test = train_test_split(data, target, random_state=42)\n",
    "\n",
    "logreg = LogisticRegression(random_state=42)\n",
    "logreg.fit(X_train, y_train)\n",
    "y_pred = logreg.predict(X_test)\n",
    "\n",
    "\n",
    "\n",
    "print('Правильность на обучающем наборе: {:.3f}'.format(logreg.score(X_train, y_train)))\n",
    "print('Правильность на тестовом наборе: {:.3f}'.format(logreg.score(X_test, y_test)))\n",
    "print('Точность на тестовом наборе: {:.3f}'.format(precision_score(y_test, y_pred)))"
   ]
  },
  {
   "cell_type": "code",
   "execution_count": 69,
   "metadata": {},
   "outputs": [
    {
     "data": {
      "text/plain": [
       "<bound method LogisticRegression.predict_proba of LogisticRegression(C=1.0, class_weight=None, dual=False, fit_intercept=True,\n",
       "          intercept_scaling=1, max_iter=100, multi_class='warn',\n",
       "          n_jobs=None, penalty='l2', random_state=42, solver='warn',\n",
       "          tol=0.0001, verbose=0, warm_start=False)>"
      ]
     },
     "execution_count": 69,
     "metadata": {},
     "output_type": "execute_result"
    }
   ],
   "source": [
    "logreg.predict_proba"
   ]
  },
  {
   "cell_type": "code",
   "execution_count": 97,
   "metadata": {},
   "outputs": [],
   "source": [
    "y_pred_proba = logreg.predict_proba(X_test)"
   ]
  },
  {
   "cell_type": "code",
   "execution_count": 98,
   "metadata": {},
   "outputs": [
    {
     "data": {
      "text/plain": [
       "array([[0.93310196, 0.06689804],\n",
       "       [0.95268334, 0.04731666],\n",
       "       [0.94607742, 0.05392258],\n",
       "       ...,\n",
       "       [0.96155627, 0.03844373],\n",
       "       [0.90604579, 0.09395421],\n",
       "       [0.95481657, 0.04518343]])"
      ]
     },
     "execution_count": 98,
     "metadata": {},
     "output_type": "execute_result"
    }
   ],
   "source": [
    "y_pred_proba"
   ]
  },
  {
   "cell_type": "code",
   "execution_count": 67,
   "metadata": {},
   "outputs": [
    {
     "data": {
      "text/plain": [
       "{0, 1}"
      ]
     },
     "execution_count": 67,
     "metadata": {},
     "output_type": "execute_result"
    }
   ],
   "source": [
    "set(y_pred)"
   ]
  },
  {
   "cell_type": "code",
   "execution_count": 1,
   "metadata": {
    "scrolled": true
   },
   "outputs": [],
   "source": [
    "fig, axes = plt.subplots(ncols=2, figsize=(10,4))\n",
    "LogisticRegression.R2_Y1.plot(ax=axes[0], kind='bar', title='R2_Y1')\n",
    "LogisticRegression.R2_Y2.plot(ax=axes[1], kind='bar', color='green', title='R2_Y2')"
   ]
  },
  {
   "cell_type": "code",
   "execution_count": 38,
   "metadata": {},
   "outputs": [
    {
     "data": {
      "text/plain": [
       "-0.06466041511358767"
      ]
     },
     "execution_count": 38,
     "metadata": {},
     "output_type": "execute_result"
    }
   ],
   "source": [
    "r2_score(y_test, y_pred)"
   ]
  },
  {
   "cell_type": "code",
   "execution_count": 5,
   "metadata": {},
   "outputs": [
    {
     "name": "stdout",
     "output_type": "stream",
     "text": [
      "r2_score: 0.815\n"
     ]
    }
   ],
   "source": [
    "print('r2_score: 0.815')"
   ]
  },
  {
   "cell_type": "code",
   "execution_count": 2,
   "metadata": {},
   "outputs": [],
   "source": [
    "weights = logreg.coef_\n",
    "abs_weights = np.abs(weights)\n",
    "\n",
    "print(abs_weights)"
   ]
  },
  {
   "cell_type": "code",
   "execution_count": 55,
   "metadata": {},
   "outputs": [],
   "source": [
    "import numpy as np\n",
    "\n",
    "#features names\n",
    "names_of_variables =np.array([\"Len_country\", \"ln_Budget\", \"Len_production_co\", \"Run_time\", \"Age_rating\",  \"Ex_year_director\"])\n",
    "\n",
    "#create random weights and get the magnitude\n",
    "weights = logreg.coef_\n",
    "abs_weights = np.abs(weights)"
   ]
  },
  {
   "cell_type": "code",
   "execution_count": 61,
   "metadata": {},
   "outputs": [
    {
     "data": {
      "text/plain": [
       "array([[0.10233646, 0.13486935, 0.11643098, 0.67053789, 0.25701485,\n",
       "        0.02943296]])"
      ]
     },
     "execution_count": 61,
     "metadata": {},
     "output_type": "execute_result"
    }
   ],
   "source": [
    "abs_weights"
   ]
  },
  {
   "cell_type": "code",
   "execution_count": 130,
   "metadata": {},
   "outputs": [],
   "source": [
    "prob = pd.read_excel('prob.xlsx', index = False)"
   ]
  },
  {
   "cell_type": "code",
   "execution_count": 131,
   "metadata": {
    "scrolled": false
   },
   "outputs": [
    {
     "data": {
      "text/html": [
       "<div>\n",
       "<style scoped>\n",
       "    .dataframe tbody tr th:only-of-type {\n",
       "        vertical-align: middle;\n",
       "    }\n",
       "\n",
       "    .dataframe tbody tr th {\n",
       "        vertical-align: top;\n",
       "    }\n",
       "\n",
       "    .dataframe thead th {\n",
       "        text-align: right;\n",
       "    }\n",
       "</style>\n",
       "<table border=\"1\" class=\"dataframe\">\n",
       "  <thead>\n",
       "    <tr style=\"text-align: right;\">\n",
       "      <th></th>\n",
       "      <th>Название</th>\n",
       "      <th>Количество стран производства</th>\n",
       "      <th>Натуральный логарифм бюджета</th>\n",
       "      <th>Количество кинокомпаний</th>\n",
       "      <th>Длительность фильма</th>\n",
       "      <th>Минимальный рейтинг возраста зрителя</th>\n",
       "      <th>Опыт режиссера</th>\n",
       "    </tr>\n",
       "  </thead>\n",
       "  <tbody>\n",
       "    <tr>\n",
       "      <th>0</th>\n",
       "      <td>Время первых</td>\n",
       "      <td>1</td>\n",
       "      <td>20.461528</td>\n",
       "      <td>4</td>\n",
       "      <td>140</td>\n",
       "      <td>6</td>\n",
       "      <td>8</td>\n",
       "    </tr>\n",
       "    <tr>\n",
       "      <th>1</th>\n",
       "      <td>Притяжение</td>\n",
       "      <td>1</td>\n",
       "      <td>20.856746</td>\n",
       "      <td>4</td>\n",
       "      <td>132</td>\n",
       "      <td>12</td>\n",
       "      <td>12</td>\n",
       "    </tr>\n",
       "    <tr>\n",
       "      <th>2</th>\n",
       "      <td>Он — дракон</td>\n",
       "      <td>1</td>\n",
       "      <td>20.688527</td>\n",
       "      <td>1</td>\n",
       "      <td>110</td>\n",
       "      <td>12</td>\n",
       "      <td>0</td>\n",
       "    </tr>\n",
       "    <tr>\n",
       "      <th>3</th>\n",
       "      <td>Легенда о Коловрате</td>\n",
       "      <td>1</td>\n",
       "      <td>20.454363</td>\n",
       "      <td>2</td>\n",
       "      <td>117</td>\n",
       "      <td>12</td>\n",
       "      <td>28</td>\n",
       "    </tr>\n",
       "    <tr>\n",
       "      <th>4</th>\n",
       "      <td>7 главных желаний</td>\n",
       "      <td>1</td>\n",
       "      <td>17.703689</td>\n",
       "      <td>1</td>\n",
       "      <td>80</td>\n",
       "      <td>6</td>\n",
       "      <td>4</td>\n",
       "    </tr>\n",
       "    <tr>\n",
       "      <th>5</th>\n",
       "      <td>Матильда</td>\n",
       "      <td>1</td>\n",
       "      <td>21.320490</td>\n",
       "      <td>1</td>\n",
       "      <td>109</td>\n",
       "      <td>16</td>\n",
       "      <td>25</td>\n",
       "    </tr>\n",
       "    <tr>\n",
       "      <th>6</th>\n",
       "      <td>СуперБобровы</td>\n",
       "      <td>1</td>\n",
       "      <td>19.649314</td>\n",
       "      <td>1</td>\n",
       "      <td>95</td>\n",
       "      <td>12</td>\n",
       "      <td>10</td>\n",
       "    </tr>\n",
       "    <tr>\n",
       "      <th>7</th>\n",
       "      <td>Воин</td>\n",
       "      <td>1</td>\n",
       "      <td>19.353262</td>\n",
       "      <td>1</td>\n",
       "      <td>90</td>\n",
       "      <td>12</td>\n",
       "      <td>3</td>\n",
       "    </tr>\n",
       "    <tr>\n",
       "      <th>8</th>\n",
       "      <td>Русалка. Озеро мертвых</td>\n",
       "      <td>1</td>\n",
       "      <td>18.969981</td>\n",
       "      <td>4</td>\n",
       "      <td>87</td>\n",
       "      <td>16</td>\n",
       "      <td>14</td>\n",
       "    </tr>\n",
       "    <tr>\n",
       "      <th>9</th>\n",
       "      <td>Мафия: Игра на выживание</td>\n",
       "      <td>1</td>\n",
       "      <td>19.787070</td>\n",
       "      <td>2</td>\n",
       "      <td>91</td>\n",
       "      <td>16</td>\n",
       "      <td>7</td>\n",
       "    </tr>\n",
       "  </tbody>\n",
       "</table>\n",
       "</div>"
      ],
      "text/plain": [
       "                   Название  Количество стран производства  \\\n",
       "0              Время первых                              1   \n",
       "1                Притяжение                              1   \n",
       "2               Он — дракон                              1   \n",
       "3       Легенда о Коловрате                              1   \n",
       "4         7 главных желаний                              1   \n",
       "5                  Матильда                              1   \n",
       "6              СуперБобровы                              1   \n",
       "7                      Воин                              1   \n",
       "8    Русалка. Озеро мертвых                              1   \n",
       "9  Мафия: Игра на выживание                              1   \n",
       "\n",
       "   Натуральный логарифм бюджета  Количество кинокомпаний  Длительность фильма  \\\n",
       "0                     20.461528                        4                  140   \n",
       "1                     20.856746                        4                  132   \n",
       "2                     20.688527                        1                  110   \n",
       "3                     20.454363                        2                  117   \n",
       "4                     17.703689                        1                   80   \n",
       "5                     21.320490                        1                  109   \n",
       "6                     19.649314                        1                   95   \n",
       "7                     19.353262                        1                   90   \n",
       "8                     18.969981                        4                   87   \n",
       "9                     19.787070                        2                   91   \n",
       "\n",
       "   Минимальный рейтинг возраста зрителя  Опыт режиссера  \n",
       "0                                     6               8  \n",
       "1                                    12              12  \n",
       "2                                    12               0  \n",
       "3                                    12              28  \n",
       "4                                     6               4  \n",
       "5                                    16              25  \n",
       "6                                    12              10  \n",
       "7                                    12               3  \n",
       "8                                    16              14  \n",
       "9                                    16               7  "
      ]
     },
     "execution_count": 131,
     "metadata": {},
     "output_type": "execute_result"
    }
   ],
   "source": [
    "prob"
   ]
  },
  {
   "cell_type": "code",
   "execution_count": 133,
   "metadata": {},
   "outputs": [],
   "source": [
    "prob = pd.read_excel('prob.xlsx', index = False)"
   ]
  },
  {
   "cell_type": "code",
   "execution_count": 134,
   "metadata": {},
   "outputs": [
    {
     "data": {
      "text/html": [
       "<div>\n",
       "<style scoped>\n",
       "    .dataframe tbody tr th:only-of-type {\n",
       "        vertical-align: middle;\n",
       "    }\n",
       "\n",
       "    .dataframe tbody tr th {\n",
       "        vertical-align: top;\n",
       "    }\n",
       "\n",
       "    .dataframe thead th {\n",
       "        text-align: right;\n",
       "    }\n",
       "</style>\n",
       "<table border=\"1\" class=\"dataframe\">\n",
       "  <thead>\n",
       "    <tr style=\"text-align: right;\">\n",
       "      <th></th>\n",
       "      <th>Количество стран производства</th>\n",
       "      <th>Натуральный логарифм бюджета</th>\n",
       "      <th>Количество кинокомпаний</th>\n",
       "      <th>Длительность фильма</th>\n",
       "      <th>Минимальный рейтинг возраста зрителя</th>\n",
       "      <th>Опыт режиссера</th>\n",
       "    </tr>\n",
       "  </thead>\n",
       "  <tbody>\n",
       "    <tr>\n",
       "      <th>0</th>\n",
       "      <td>1</td>\n",
       "      <td>20.461528</td>\n",
       "      <td>4</td>\n",
       "      <td>140</td>\n",
       "      <td>6</td>\n",
       "      <td>8</td>\n",
       "    </tr>\n",
       "    <tr>\n",
       "      <th>1</th>\n",
       "      <td>1</td>\n",
       "      <td>20.856746</td>\n",
       "      <td>4</td>\n",
       "      <td>132</td>\n",
       "      <td>12</td>\n",
       "      <td>12</td>\n",
       "    </tr>\n",
       "    <tr>\n",
       "      <th>2</th>\n",
       "      <td>1</td>\n",
       "      <td>20.688527</td>\n",
       "      <td>1</td>\n",
       "      <td>110</td>\n",
       "      <td>12</td>\n",
       "      <td>0</td>\n",
       "    </tr>\n",
       "    <tr>\n",
       "      <th>3</th>\n",
       "      <td>1</td>\n",
       "      <td>20.454363</td>\n",
       "      <td>2</td>\n",
       "      <td>117</td>\n",
       "      <td>12</td>\n",
       "      <td>28</td>\n",
       "    </tr>\n",
       "    <tr>\n",
       "      <th>4</th>\n",
       "      <td>1</td>\n",
       "      <td>17.703689</td>\n",
       "      <td>1</td>\n",
       "      <td>80</td>\n",
       "      <td>6</td>\n",
       "      <td>4</td>\n",
       "    </tr>\n",
       "    <tr>\n",
       "      <th>5</th>\n",
       "      <td>1</td>\n",
       "      <td>21.320490</td>\n",
       "      <td>1</td>\n",
       "      <td>109</td>\n",
       "      <td>16</td>\n",
       "      <td>25</td>\n",
       "    </tr>\n",
       "    <tr>\n",
       "      <th>6</th>\n",
       "      <td>1</td>\n",
       "      <td>19.649314</td>\n",
       "      <td>1</td>\n",
       "      <td>95</td>\n",
       "      <td>12</td>\n",
       "      <td>10</td>\n",
       "    </tr>\n",
       "    <tr>\n",
       "      <th>7</th>\n",
       "      <td>1</td>\n",
       "      <td>19.353262</td>\n",
       "      <td>1</td>\n",
       "      <td>90</td>\n",
       "      <td>12</td>\n",
       "      <td>3</td>\n",
       "    </tr>\n",
       "    <tr>\n",
       "      <th>8</th>\n",
       "      <td>1</td>\n",
       "      <td>18.969981</td>\n",
       "      <td>4</td>\n",
       "      <td>87</td>\n",
       "      <td>16</td>\n",
       "      <td>14</td>\n",
       "    </tr>\n",
       "    <tr>\n",
       "      <th>9</th>\n",
       "      <td>1</td>\n",
       "      <td>19.787070</td>\n",
       "      <td>2</td>\n",
       "      <td>91</td>\n",
       "      <td>16</td>\n",
       "      <td>7</td>\n",
       "    </tr>\n",
       "  </tbody>\n",
       "</table>\n",
       "</div>"
      ],
      "text/plain": [
       "   Количество стран производства  Натуральный логарифм бюджета  \\\n",
       "0                              1                     20.461528   \n",
       "1                              1                     20.856746   \n",
       "2                              1                     20.688527   \n",
       "3                              1                     20.454363   \n",
       "4                              1                     17.703689   \n",
       "5                              1                     21.320490   \n",
       "6                              1                     19.649314   \n",
       "7                              1                     19.353262   \n",
       "8                              1                     18.969981   \n",
       "9                              1                     19.787070   \n",
       "\n",
       "   Количество кинокомпаний  Длительность фильма  \\\n",
       "0                        4                  140   \n",
       "1                        4                  132   \n",
       "2                        1                  110   \n",
       "3                        2                  117   \n",
       "4                        1                   80   \n",
       "5                        1                  109   \n",
       "6                        1                   95   \n",
       "7                        1                   90   \n",
       "8                        4                   87   \n",
       "9                        2                   91   \n",
       "\n",
       "   Минимальный рейтинг возраста зрителя  Опыт режиссера  \n",
       "0                                     6               8  \n",
       "1                                    12              12  \n",
       "2                                    12               0  \n",
       "3                                    12              28  \n",
       "4                                     6               4  \n",
       "5                                    16              25  \n",
       "6                                    12              10  \n",
       "7                                    12               3  \n",
       "8                                    16              14  \n",
       "9                                    16               7  "
      ]
     },
     "execution_count": 134,
     "metadata": {},
     "output_type": "execute_result"
    }
   ],
   "source": [
    "prob"
   ]
  },
  {
   "cell_type": "code",
   "execution_count": 137,
   "metadata": {},
   "outputs": [
    {
     "data": {
      "text/plain": [
       "array([[ 0.        ,  0.53083554,  1.46153846,  1.83712202, -1.73205081,\n",
       "        -0.35679354],\n",
       "       [ 0.        ,  0.92149391,  1.46153846,  1.41600522,  0.        ,\n",
       "         0.10358522],\n",
       "       [ 0.        ,  0.75521551, -0.84615385,  0.25793404,  0.        ,\n",
       "        -1.27755106],\n",
       "       [ 0.        ,  0.52375262, -0.07692308,  0.62641123,  0.        ,\n",
       "         1.94510026],\n",
       "       [ 0.        , -2.19518633, -0.84615385, -1.32125395, -1.73205081,\n",
       "        -0.8171723 ],\n",
       "       [ 0.        ,  1.37988691, -0.84615385,  0.20529444,  1.15470054,\n",
       "         1.59981619],\n",
       "       [ 0.        , -0.27200842, -0.84615385, -0.53165995,  0.        ,\n",
       "        -0.12660416],\n",
       "       [ 0.        , -0.56464451, -0.84615385, -0.79485795,  0.        ,\n",
       "        -0.93226699],\n",
       "       [ 0.        , -0.94350387,  1.46153846, -0.95277675,  1.15470054,\n",
       "         0.3337746 ],\n",
       "       [ 0.        , -0.13584137, -0.07692308, -0.74221835,  1.15470054,\n",
       "        -0.47188823]])"
      ]
     },
     "execution_count": 137,
     "metadata": {},
     "output_type": "execute_result"
    }
   ],
   "source": [
    "X_prob"
   ]
  },
  {
   "cell_type": "code",
   "execution_count": 138,
   "metadata": {},
   "outputs": [],
   "source": [
    "y_pred_fact = logreg.predict(X_prob)"
   ]
  },
  {
   "cell_type": "code",
   "execution_count": 139,
   "metadata": {},
   "outputs": [
    {
     "data": {
      "text/plain": [
       "array([0, 0, 0, 0, 0, 0, 0, 0, 0, 0])"
      ]
     },
     "execution_count": 139,
     "metadata": {},
     "output_type": "execute_result"
    }
   ],
   "source": [
    "y_pred_fact"
   ]
  },
  {
   "cell_type": "code",
   "execution_count": 90,
   "metadata": {},
   "outputs": [],
   "source": [
    "sft = prob.copy()"
   ]
  },
  {
   "cell_type": "code",
   "execution_count": 140,
   "metadata": {},
   "outputs": [],
   "source": [
    "y_pred_proba = logreg.predict_proba(X_prob)"
   ]
  },
  {
   "cell_type": "code",
   "execution_count": 125,
   "metadata": {},
   "outputs": [
    {
     "data": {
      "text/plain": [
       "0.044426112179232"
      ]
     },
     "execution_count": 125,
     "metadata": {},
     "output_type": "execute_result"
    }
   ],
   "source": [
    "y_pred_proba[0][1]"
   ]
  },
  {
   "cell_type": "code",
   "execution_count": 141,
   "metadata": {},
   "outputs": [],
   "source": [
    "lll = []\n",
    "for i in range(len(y_pred_proba)):\n",
    "    k = y_pred_proba[i-1][1]\n",
    "    lll.append(k)"
   ]
  },
  {
   "cell_type": "code",
   "execution_count": 142,
   "metadata": {},
   "outputs": [
    {
     "data": {
      "text/plain": [
       "[0.034493466888752336,\n",
       " 0.3154898911100618,\n",
       " 0.1724513862033278,\n",
       " 0.07239336026572911,\n",
       " 0.0930046457001686,\n",
       " 0.05842185462969765,\n",
       " 0.0451525997905391,\n",
       " 0.04855518881478477,\n",
       " 0.043580610660911734,\n",
       " 0.0388385214637224]"
      ]
     },
     "execution_count": 142,
     "metadata": {},
     "output_type": "execute_result"
    }
   ],
   "source": [
    "lll"
   ]
  },
  {
   "cell_type": "code",
   "execution_count": 143,
   "metadata": {},
   "outputs": [],
   "source": [
    "prob['prob'] = lll"
   ]
  },
  {
   "cell_type": "code",
   "execution_count": 144,
   "metadata": {},
   "outputs": [
    {
     "data": {
      "text/html": [
       "<div>\n",
       "<style scoped>\n",
       "    .dataframe tbody tr th:only-of-type {\n",
       "        vertical-align: middle;\n",
       "    }\n",
       "\n",
       "    .dataframe tbody tr th {\n",
       "        vertical-align: top;\n",
       "    }\n",
       "\n",
       "    .dataframe thead th {\n",
       "        text-align: right;\n",
       "    }\n",
       "</style>\n",
       "<table border=\"1\" class=\"dataframe\">\n",
       "  <thead>\n",
       "    <tr style=\"text-align: right;\">\n",
       "      <th></th>\n",
       "      <th>Количество стран производства</th>\n",
       "      <th>Натуральный логарифм бюджета</th>\n",
       "      <th>Количество кинокомпаний</th>\n",
       "      <th>Длительность фильма</th>\n",
       "      <th>Минимальный рейтинг возраста зрителя</th>\n",
       "      <th>Опыт режиссера</th>\n",
       "      <th>prob</th>\n",
       "    </tr>\n",
       "  </thead>\n",
       "  <tbody>\n",
       "    <tr>\n",
       "      <th>0</th>\n",
       "      <td>1</td>\n",
       "      <td>20.461528</td>\n",
       "      <td>4</td>\n",
       "      <td>140</td>\n",
       "      <td>6</td>\n",
       "      <td>8</td>\n",
       "      <td>0.034493</td>\n",
       "    </tr>\n",
       "    <tr>\n",
       "      <th>1</th>\n",
       "      <td>1</td>\n",
       "      <td>20.856746</td>\n",
       "      <td>4</td>\n",
       "      <td>132</td>\n",
       "      <td>12</td>\n",
       "      <td>12</td>\n",
       "      <td>0.315490</td>\n",
       "    </tr>\n",
       "    <tr>\n",
       "      <th>2</th>\n",
       "      <td>1</td>\n",
       "      <td>20.688527</td>\n",
       "      <td>1</td>\n",
       "      <td>110</td>\n",
       "      <td>12</td>\n",
       "      <td>0</td>\n",
       "      <td>0.172451</td>\n",
       "    </tr>\n",
       "    <tr>\n",
       "      <th>3</th>\n",
       "      <td>1</td>\n",
       "      <td>20.454363</td>\n",
       "      <td>2</td>\n",
       "      <td>117</td>\n",
       "      <td>12</td>\n",
       "      <td>28</td>\n",
       "      <td>0.072393</td>\n",
       "    </tr>\n",
       "    <tr>\n",
       "      <th>4</th>\n",
       "      <td>1</td>\n",
       "      <td>17.703689</td>\n",
       "      <td>1</td>\n",
       "      <td>80</td>\n",
       "      <td>6</td>\n",
       "      <td>4</td>\n",
       "      <td>0.093005</td>\n",
       "    </tr>\n",
       "    <tr>\n",
       "      <th>5</th>\n",
       "      <td>1</td>\n",
       "      <td>21.320490</td>\n",
       "      <td>1</td>\n",
       "      <td>109</td>\n",
       "      <td>16</td>\n",
       "      <td>25</td>\n",
       "      <td>0.058422</td>\n",
       "    </tr>\n",
       "    <tr>\n",
       "      <th>6</th>\n",
       "      <td>1</td>\n",
       "      <td>19.649314</td>\n",
       "      <td>1</td>\n",
       "      <td>95</td>\n",
       "      <td>12</td>\n",
       "      <td>10</td>\n",
       "      <td>0.045153</td>\n",
       "    </tr>\n",
       "    <tr>\n",
       "      <th>7</th>\n",
       "      <td>1</td>\n",
       "      <td>19.353262</td>\n",
       "      <td>1</td>\n",
       "      <td>90</td>\n",
       "      <td>12</td>\n",
       "      <td>3</td>\n",
       "      <td>0.048555</td>\n",
       "    </tr>\n",
       "    <tr>\n",
       "      <th>8</th>\n",
       "      <td>1</td>\n",
       "      <td>18.969981</td>\n",
       "      <td>4</td>\n",
       "      <td>87</td>\n",
       "      <td>16</td>\n",
       "      <td>14</td>\n",
       "      <td>0.043581</td>\n",
       "    </tr>\n",
       "    <tr>\n",
       "      <th>9</th>\n",
       "      <td>1</td>\n",
       "      <td>19.787070</td>\n",
       "      <td>2</td>\n",
       "      <td>91</td>\n",
       "      <td>16</td>\n",
       "      <td>7</td>\n",
       "      <td>0.038839</td>\n",
       "    </tr>\n",
       "  </tbody>\n",
       "</table>\n",
       "</div>"
      ],
      "text/plain": [
       "   Количество стран производства  Натуральный логарифм бюджета  \\\n",
       "0                              1                     20.461528   \n",
       "1                              1                     20.856746   \n",
       "2                              1                     20.688527   \n",
       "3                              1                     20.454363   \n",
       "4                              1                     17.703689   \n",
       "5                              1                     21.320490   \n",
       "6                              1                     19.649314   \n",
       "7                              1                     19.353262   \n",
       "8                              1                     18.969981   \n",
       "9                              1                     19.787070   \n",
       "\n",
       "   Количество кинокомпаний  Длительность фильма  \\\n",
       "0                        4                  140   \n",
       "1                        4                  132   \n",
       "2                        1                  110   \n",
       "3                        2                  117   \n",
       "4                        1                   80   \n",
       "5                        1                  109   \n",
       "6                        1                   95   \n",
       "7                        1                   90   \n",
       "8                        4                   87   \n",
       "9                        2                   91   \n",
       "\n",
       "   Минимальный рейтинг возраста зрителя  Опыт режиссера      prob  \n",
       "0                                     6               8  0.034493  \n",
       "1                                    12              12  0.315490  \n",
       "2                                    12               0  0.172451  \n",
       "3                                    12              28  0.072393  \n",
       "4                                     6               4  0.093005  \n",
       "5                                    16              25  0.058422  \n",
       "6                                    12              10  0.045153  \n",
       "7                                    12               3  0.048555  \n",
       "8                                    16              14  0.043581  \n",
       "9                                    16               7  0.038839  "
      ]
     },
     "execution_count": 144,
     "metadata": {},
     "output_type": "execute_result"
    }
   ],
   "source": [
    "prob"
   ]
  },
  {
   "cell_type": "code",
   "execution_count": 109,
   "metadata": {},
   "outputs": [
    {
     "data": {
      "text/plain": [
       "1809"
      ]
     },
     "execution_count": 109,
     "metadata": {},
     "output_type": "execute_result"
    }
   ],
   "source": [
    "len(y_pred)"
   ]
  },
  {
   "cell_type": "code",
   "execution_count": 135,
   "metadata": {
    "scrolled": true
   },
   "outputs": [
    {
     "name": "stderr",
     "output_type": "stream",
     "text": [
      "C:\\Users\\1\\Anaconda2\\lib\\site-packages\\sklearn\\preprocessing\\data.py:625: DataConversionWarning: Data with input dtype int64, float64 were all converted to float64 by StandardScaler.\n",
      "  return self.partial_fit(X, y)\n"
     ]
    },
    {
     "data": {
      "text/plain": [
       "StandardScaler(copy=True, with_mean=True, with_std=True)"
      ]
     },
     "execution_count": 135,
     "metadata": {},
     "output_type": "execute_result"
    }
   ],
   "source": [
    "scaler.fit(prob)\n",
    "# X_prob = scaler.transform(prob)"
   ]
  },
  {
   "cell_type": "code",
   "execution_count": 136,
   "metadata": {},
   "outputs": [
    {
     "name": "stderr",
     "output_type": "stream",
     "text": [
      "C:\\Users\\1\\Anaconda2\\lib\\site-packages\\ipykernel_launcher.py:1: DataConversionWarning: Data with input dtype int64, float64 were all converted to float64 by StandardScaler.\n",
      "  \"\"\"Entry point for launching an IPython kernel.\n"
     ]
    }
   ],
   "source": [
    "X_prob = scaler.transform(prob)"
   ]
  },
  {
   "cell_type": "code",
   "execution_count": 103,
   "metadata": {},
   "outputs": [],
   "source": [
    "fpr, tpr, thresholds = roc_curve(y_pred, y_test)"
   ]
  },
  {
   "cell_type": "code",
   "execution_count": 107,
   "metadata": {},
   "outputs": [
    {
     "data": {
      "text/plain": [
       "0.8339117157134924"
      ]
     },
     "execution_count": 107,
     "metadata": {},
     "output_type": "execute_result"
    }
   ],
   "source": [
    "roc_auc_score(y_pred,y_test)"
   ]
  },
  {
   "cell_type": "code",
   "execution_count": 105,
   "metadata": {},
   "outputs": [],
   "source": [
    "def plot_roc_curve(fpr, tpr, label = None):\n",
    "    plt.plot(fpr, tpr, linewidth = 2, label = label)\n",
    "    plt.plot([0, 1], [0, 1], 'k--')\n",
    "    plt.axis([0,1,0,1])\n",
    "    plt.xlabel('False Positive Rate')\n",
    "    plt.ylabel('True Positive Rate')"
   ]
  },
  {
   "cell_type": "code",
   "execution_count": 106,
   "metadata": {},
   "outputs": [
    {
     "data": {
      "image/png": "[encoded data removed]",
      "text/plain": [
       "<Figure size 432x288 with 1 Axes>"
      ]
     },
     "metadata": {
      "needs_background": "light"
     },
     "output_type": "display_data"
    }
   ],
   "source": [
    "plot_roc_curve(fpr, tpr)\n",
    "plt.show()"
   ]
  }
 ],
 "metadata": {
  "kernelspec": {
   "display_name": "Python 2",
   "language": "python",
   "name": "python2"
  },
  "language_info": {
   "codemirror_mode": {
    "name": "ipython",
    "version": 2
   },
   "file_extension": ".py",
   "mimetype": "text/x-python",
   "name": "python",
   "nbconvert_exporter": "python",
   "pygments_lexer": "ipython2",
   "version": "2.7.15"
  }
 },
 "nbformat": 4,
 "nbformat_minor": 2
}
