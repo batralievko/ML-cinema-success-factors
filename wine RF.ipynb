{
 "cells": [
  {
   "cell_type": "code",
   "execution_count": 1,
   "metadata": {},
   "outputs": [],
   "source": [
    "import numpy as np\n",
    "import pandas as pd\n",
    "import matplotlib.pyplot as plt\n",
    "import seaborn as sns\n",
    "from IPython.display import display"
   ]
  },
  {
   "cell_type": "code",
   "execution_count": null,
   "metadata": {},
   "outputs": [],
   "source": []
  },
  {
   "cell_type": "markdown",
   "metadata": {},
   "source": [
    "### разобьем данные на две части\n"
   ]
  },
  {
   "cell_type": "code",
   "execution_count": null,
   "metadata": {},
   "outputs": [],
   "source": [
    "#wine = pd.read_csv('wineQualityWhites.csv', index_col = 'Unnamed: 0')\n",
    "#wine[:500].to_csv('test_wine.csv', index=False)\n",
    "#wine[500:].to_csv('train_wine.csv', index=False)"
   ]
  },
  {
   "cell_type": "markdown",
   "metadata": {},
   "source": [
    "### загрузим часть, оставленную на обучение"
   ]
  },
  {
   "cell_type": "code",
   "execution_count": 42,
   "metadata": {},
   "outputs": [
    {
     "data": {
      "text/html": [
       "<div>\n",
       "<style scoped>\n",
       "    .dataframe tbody tr th:only-of-type {\n",
       "        vertical-align: middle;\n",
       "    }\n",
       "\n",
       "    .dataframe tbody tr th {\n",
       "        vertical-align: top;\n",
       "    }\n",
       "\n",
       "    .dataframe thead th {\n",
       "        text-align: right;\n",
       "    }\n",
       "</style>\n",
       "<table border=\"1\" class=\"dataframe\">\n",
       "  <thead>\n",
       "    <tr style=\"text-align: right;\">\n",
       "      <th></th>\n",
       "      <th>fixed.acidity</th>\n",
       "      <th>volatile.acidity</th>\n",
       "      <th>citric.acid</th>\n",
       "      <th>residual.sugar</th>\n",
       "      <th>chlorides</th>\n",
       "      <th>free.sulfur.dioxide</th>\n",
       "      <th>total.sulfur.dioxide</th>\n",
       "      <th>density</th>\n",
       "      <th>pH</th>\n",
       "      <th>sulphates</th>\n",
       "      <th>alcohol</th>\n",
       "      <th>quality</th>\n",
       "    </tr>\n",
       "  </thead>\n",
       "  <tbody>\n",
       "    <tr>\n",
       "      <th>0</th>\n",
       "      <td>7.2</td>\n",
       "      <td>0.28</td>\n",
       "      <td>0.54</td>\n",
       "      <td>16.70</td>\n",
       "      <td>0.045</td>\n",
       "      <td>54.0</td>\n",
       "      <td>200.0</td>\n",
       "      <td>0.9990</td>\n",
       "      <td>3.08</td>\n",
       "      <td>0.49</td>\n",
       "      <td>9.5</td>\n",
       "      <td>6</td>\n",
       "    </tr>\n",
       "    <tr>\n",
       "      <th>1</th>\n",
       "      <td>6.8</td>\n",
       "      <td>0.19</td>\n",
       "      <td>0.58</td>\n",
       "      <td>14.20</td>\n",
       "      <td>0.038</td>\n",
       "      <td>51.0</td>\n",
       "      <td>164.0</td>\n",
       "      <td>0.9975</td>\n",
       "      <td>3.12</td>\n",
       "      <td>0.48</td>\n",
       "      <td>9.6</td>\n",
       "      <td>6</td>\n",
       "    </tr>\n",
       "    <tr>\n",
       "      <th>2</th>\n",
       "      <td>6.4</td>\n",
       "      <td>0.30</td>\n",
       "      <td>0.30</td>\n",
       "      <td>2.25</td>\n",
       "      <td>0.038</td>\n",
       "      <td>8.0</td>\n",
       "      <td>210.0</td>\n",
       "      <td>0.9937</td>\n",
       "      <td>3.20</td>\n",
       "      <td>0.62</td>\n",
       "      <td>9.9</td>\n",
       "      <td>6</td>\n",
       "    </tr>\n",
       "  </tbody>\n",
       "</table>\n",
       "</div>"
      ],
      "text/plain": [
       "   fixed.acidity  volatile.acidity  citric.acid  residual.sugar  chlorides  \\\n",
       "0            7.2              0.28         0.54           16.70      0.045   \n",
       "1            6.8              0.19         0.58           14.20      0.038   \n",
       "2            6.4              0.30         0.30            2.25      0.038   \n",
       "\n",
       "   free.sulfur.dioxide  total.sulfur.dioxide  density    pH  sulphates  \\\n",
       "0                 54.0                 200.0   0.9990  3.08       0.49   \n",
       "1                 51.0                 164.0   0.9975  3.12       0.48   \n",
       "2                  8.0                 210.0   0.9937  3.20       0.62   \n",
       "\n",
       "   alcohol  quality  \n",
       "0      9.5        6  \n",
       "1      9.6        6  \n",
       "2      9.9        6  "
      ]
     },
     "execution_count": 42,
     "metadata": {},
     "output_type": "execute_result"
    }
   ],
   "source": [
    "wine_train = pd.read_csv('train_wine.csv' )\n",
    "wine_train.head(3)"
   ]
  },
  {
   "cell_type": "markdown",
   "metadata": {},
   "source": [
    "#### немножечко препроцессинг"
   ]
  },
  {
   "cell_type": "code",
   "execution_count": 43,
   "metadata": {},
   "outputs": [
    {
     "data": {
      "text/plain": [
       "array([0, 1], dtype=int64)"
      ]
     },
     "metadata": {},
     "output_type": "display_data"
    }
   ],
   "source": [
    "wine_train['quality'] = wine_train['quality'].apply(lambda x: 1 if (x > 6 ) else 0)\n",
    "display(wine_train.quality.unique())\n",
    "#data = wine_train.iloc[:,:-1].values\n",
    "#target = wine_train.iloc[:,-1].values"
   ]
  },
  {
   "cell_type": "markdown",
   "metadata": {},
   "source": [
    "# Блок обучения / отбора"
   ]
  },
  {
   "cell_type": "markdown",
   "metadata": {},
   "source": [
    "### RandomForestClassifier"
   ]
  },
  {
   "cell_type": "code",
   "execution_count": 18,
   "metadata": {},
   "outputs": [],
   "source": [
    "from sklearn.model_selection import train_test_split\n",
    "from sklearn.ensemble import RandomForestClassifier\n",
    "from sklearn.metrics import precision_score\n",
    "from tqdm import tqdm"
   ]
  },
  {
   "cell_type": "markdown",
   "metadata": {},
   "source": [
    "бейслайн для случайного леса"
   ]
  },
  {
   "cell_type": "code",
   "execution_count": 19,
   "metadata": {},
   "outputs": [
    {
     "name": "stdout",
     "output_type": "stream",
     "text": [
      "Правильность на обучающем наборе: 0.998\n",
      "Правильность на тестовом наборе: 0.869\n",
      "Точность на обучающем наборе: 0.796\n"
     ]
    }
   ],
   "source": [
    "\n",
    "data = wine_train.iloc[:,:-1]\n",
    "target = wine_train.iloc[:,-1]\n",
    "\n",
    "X_train, X_test, y_train, y_test = train_test_split(data, target, random_state=42)\n",
    "\n",
    "rf = RandomForestClassifier(n_estimators = 20, random_state=42, n_jobs=-1) #\n",
    "rf.fit(X_train, y_train)\n",
    "y_pred = rf.predict(X_test)\n",
    "\n",
    "\n",
    "\n",
    "print('Правильность на обучающем наборе: {:.3f}'.format(rf.score(X_train, y_train)))\n",
    "print('Правильность на тестовом наборе: {:.3f}'.format(rf.score(X_test, y_test)))\n",
    "print('Точность на обучающем наборе: {:.3f}'.format(precision_score(y_test, y_pred)))"
   ]
  },
  {
   "cell_type": "code",
   "execution_count": 20,
   "metadata": {},
   "outputs": [
    {
     "name": "stderr",
     "output_type": "stream",
     "text": [
      "\n",
      "  0%|          | 0/100 [00:00<?, ?it/s]\n",
      "  1%|          | 1/100 [00:00<00:35,  2.77it/s]\n",
      "  2%|▏         | 2/100 [00:00<00:39,  2.47it/s]\n",
      "  3%|▎         | 3/100 [00:01<00:41,  2.32it/s]\n",
      "  4%|▍         | 4/100 [00:01<00:44,  2.18it/s]\n",
      "  5%|▌         | 5/100 [00:02<00:45,  2.09it/s]\n",
      "  6%|▌         | 6/100 [00:02<00:47,  1.99it/s]\n",
      "  7%|▋         | 7/100 [00:03<00:49,  1.89it/s]\n",
      "  8%|▊         | 8/100 [00:04<00:52,  1.77it/s]\n",
      "  9%|▉         | 9/100 [00:04<00:53,  1.69it/s]\n",
      " 10%|█         | 10/100 [00:05<00:55,  1.62it/s]\n",
      " 11%|█         | 11/100 [00:06<00:51,  1.73it/s]\n",
      " 12%|█▏        | 12/100 [00:06<00:48,  1.80it/s]\n",
      " 13%|█▎        | 13/100 [00:07<00:46,  1.86it/s]\n",
      " 14%|█▍        | 14/100 [00:07<00:53,  1.61it/s]\n",
      " 15%|█▌        | 15/100 [00:08<00:57,  1.47it/s]\n",
      " 16%|█▌        | 16/100 [00:09<01:03,  1.33it/s]\n",
      " 17%|█▋        | 17/100 [00:10<01:03,  1.30it/s]\n",
      " 18%|█▊        | 18/100 [00:11<01:05,  1.25it/s]\n",
      " 19%|█▉        | 19/100 [00:11<01:00,  1.33it/s]\n",
      " 20%|██        | 20/100 [00:12<00:59,  1.35it/s]\n",
      " 21%|██        | 21/100 [00:13<01:04,  1.23it/s]\n",
      " 22%|██▏       | 22/100 [00:14<01:06,  1.18it/s]\n",
      " 23%|██▎       | 23/100 [00:15<01:05,  1.18it/s]\n",
      " 24%|██▍       | 24/100 [00:16<01:08,  1.11it/s]\n",
      " 25%|██▌       | 25/100 [00:17<01:10,  1.06it/s]\n",
      " 26%|██▌       | 26/100 [00:18<01:12,  1.02it/s]\n",
      " 27%|██▋       | 27/100 [00:19<01:12,  1.00it/s]\n",
      " 28%|██▊       | 28/100 [00:20<01:12,  1.01s/it]\n",
      " 29%|██▉       | 29/100 [00:21<01:11,  1.01s/it]\n",
      " 30%|███       | 30/100 [00:22<01:08,  1.02it/s]\n",
      " 31%|███       | 31/100 [00:23<01:09,  1.00s/it]\n",
      " 32%|███▏      | 32/100 [00:24<01:09,  1.03s/it]\n",
      " 33%|███▎      | 33/100 [00:25<01:13,  1.10s/it]\n",
      " 34%|███▍      | 34/100 [00:27<01:15,  1.15s/it]\n",
      " 35%|███▌      | 35/100 [00:28<01:13,  1.14s/it]\n",
      " 36%|███▌      | 36/100 [00:29<01:16,  1.20s/it]\n",
      " 37%|███▋      | 37/100 [00:30<01:17,  1.23s/it]\n",
      " 38%|███▊      | 38/100 [00:32<01:17,  1.25s/it]\n",
      " 39%|███▉      | 39/100 [00:33<01:24,  1.39s/it]\n",
      " 40%|████      | 40/100 [00:35<01:24,  1.41s/it]\n",
      " 41%|████      | 41/100 [00:36<01:23,  1.41s/it]\n",
      " 42%|████▏     | 42/100 [00:38<01:19,  1.37s/it]\n",
      " 43%|████▎     | 43/100 [00:39<01:16,  1.35s/it]\n",
      " 44%|████▍     | 44/100 [00:40<01:16,  1.37s/it]\n",
      " 45%|████▌     | 45/100 [00:42<01:16,  1.40s/it]\n",
      " 46%|████▌     | 46/100 [00:43<01:18,  1.46s/it]\n",
      " 47%|████▋     | 47/100 [00:45<01:17,  1.46s/it]\n",
      " 48%|████▊     | 48/100 [00:47<01:20,  1.54s/it]\n",
      " 49%|████▉     | 49/100 [00:48<01:20,  1.58s/it]\n",
      " 50%|█████     | 50/100 [00:50<01:18,  1.58s/it]\n",
      " 51%|█████     | 51/100 [00:51<01:18,  1.61s/it]\n",
      " 52%|█████▏    | 52/100 [00:53<01:12,  1.52s/it]\n",
      " 53%|█████▎    | 53/100 [00:54<01:08,  1.46s/it]\n",
      " 54%|█████▍    | 54/100 [00:55<01:03,  1.37s/it]\n",
      " 55%|█████▌    | 55/100 [00:56<00:59,  1.32s/it]\n",
      " 56%|█████▌    | 56/100 [00:58<01:02,  1.42s/it]\n",
      " 57%|█████▋    | 57/100 [01:00<01:06,  1.54s/it]\n",
      " 58%|█████▊    | 58/100 [01:02<01:09,  1.65s/it]\n",
      " 59%|█████▉    | 59/100 [01:04<01:10,  1.72s/it]\n",
      " 60%|██████    | 60/100 [01:06<01:12,  1.81s/it]\n",
      " 61%|██████    | 61/100 [01:08<01:13,  1.88s/it]\n",
      " 62%|██████▏   | 62/100 [01:10<01:11,  1.89s/it]\n",
      " 63%|██████▎   | 63/100 [01:12<01:10,  1.91s/it]\n",
      " 64%|██████▍   | 64/100 [01:14<01:07,  1.88s/it]\n",
      " 65%|██████▌   | 65/100 [01:16<01:07,  1.92s/it]\n",
      " 66%|██████▌   | 66/100 [01:18<01:06,  1.95s/it]\n",
      " 67%|██████▋   | 67/100 [01:20<01:07,  2.04s/it]\n",
      " 68%|██████▊   | 68/100 [01:22<01:05,  2.06s/it]\n",
      " 69%|██████▉   | 69/100 [01:24<01:04,  2.10s/it]\n",
      " 70%|███████   | 70/100 [01:26<01:01,  2.06s/it]\n",
      " 71%|███████   | 71/100 [01:28<00:59,  2.03s/it]\n",
      " 72%|███████▏  | 72/100 [01:30<00:58,  2.08s/it]\n",
      " 73%|███████▎  | 73/100 [01:33<00:59,  2.20s/it]\n",
      " 74%|███████▍  | 74/100 [01:35<00:58,  2.24s/it]\n",
      " 75%|███████▌  | 75/100 [01:37<00:55,  2.23s/it]\n",
      " 76%|███████▌  | 76/100 [01:40<00:54,  2.29s/it]\n",
      " 77%|███████▋  | 77/100 [01:42<00:51,  2.24s/it]\n",
      " 78%|███████▊  | 78/100 [01:44<00:49,  2.27s/it]\n",
      " 79%|███████▉  | 79/100 [01:47<00:48,  2.33s/it]\n",
      " 80%|████████  | 80/100 [01:49<00:47,  2.37s/it]\n",
      " 81%|████████  | 81/100 [01:52<00:45,  2.40s/it]\n",
      " 82%|████████▏ | 82/100 [01:54<00:42,  2.38s/it]\n",
      " 83%|████████▎ | 83/100 [01:56<00:40,  2.38s/it]\n",
      " 84%|████████▍ | 84/100 [01:58<00:35,  2.25s/it]\n",
      " 85%|████████▌ | 85/100 [02:01<00:35,  2.34s/it]\n",
      " 86%|████████▌ | 86/100 [02:03<00:32,  2.35s/it]\n",
      " 87%|████████▋ | 87/100 [02:06<00:30,  2.38s/it]\n",
      " 88%|████████▊ | 88/100 [02:08<00:29,  2.45s/it]\n",
      " 89%|████████▉ | 89/100 [02:11<00:27,  2.46s/it]\n",
      " 90%|█████████ | 90/100 [02:13<00:24,  2.47s/it]\n",
      " 91%|█████████ | 91/100 [02:16<00:23,  2.56s/it]\n",
      " 92%|█████████▏| 92/100 [02:19<00:20,  2.60s/it]\n",
      " 93%|█████████▎| 93/100 [02:21<00:18,  2.64s/it]\n",
      " 94%|█████████▍| 94/100 [02:24<00:15,  2.66s/it]\n",
      " 95%|█████████▌| 95/100 [02:27<00:13,  2.71s/it]\n",
      " 96%|█████████▌| 96/100 [02:29<00:10,  2.64s/it]\n",
      " 97%|█████████▋| 97/100 [02:32<00:08,  2.72s/it]\n",
      " 98%|█████████▊| 98/100 [02:35<00:05,  2.76s/it]\n",
      " 99%|█████████▉| 99/100 [02:38<00:02,  2.78s/it]\n",
      "100%|██████████| 100/100 [02:41<00:00,  2.80s/it]"
     ]
    },
    {
     "name": "stdout",
     "output_type": "stream",
     "text": [
      "Best accuracy is 0.875% with 44 trees\n"
     ]
    },
    {
     "data": {
      "text/plain": [
       "Text(0.5, 0, 'N_estimators')"
      ]
     },
     "execution_count": 20,
     "metadata": {},
     "output_type": "execute_result"
    },
    {
     "data": {
      "image/png": "[encoded data removed]",
      "text/plain": [
       "<Figure size 576x288 with 1 Axes>"
      ]
     },
     "metadata": {
      "needs_background": "light"
     },
     "output_type": "display_data"
    }
   ],
   "source": [
    "# деревья\n",
    "data = wine_train.iloc[:,:-1].values\n",
    "target = wine_train.iloc[:,-1].values\n",
    "X_train, X_test, y_train, y_test = train_test_split(data, target, random_state=42)\n",
    "\n",
    "train_acc = []\n",
    "test_acc = []\n",
    "\n",
    "\n",
    "trees_grid = [int(x) for x in np.linspace(start = 20, stop = 500, num = 100)]\n",
    "\n",
    "for ntrees in tqdm(trees_grid):\n",
    "    rfc = RandomForestClassifier(n_estimators=ntrees, random_state=42, n_jobs=-1)\n",
    "    rfc.fit(X_train, y_train)\n",
    "    \n",
    "    train_acc.append(rfc.score(X_train, y_train))\n",
    "    test_acc.append(rfc.score(X_test, y_test))\n",
    "    \n",
    "train_acc, test_acc  = np.asarray(train_acc), np.asarray(test_acc)\n",
    "print(\"Best accuracy is {:.3f}% with {} trees\".format(max(test_acc), \n",
    "                                                        trees_grid[np.argmax(test_acc)]))\n",
    "\n",
    "\n",
    "plt.style.use('ggplot')\n",
    "%matplotlib inline\n",
    "fig, ax = plt.subplots(figsize=(8, 4))\n",
    "ax.plot(trees_grid, train_acc, alpha=0.5, color='blue', label='train')\n",
    "ax.plot(trees_grid, test_acc, alpha=0.5, color='red', label='cv')\n",
    "ax.legend(loc='best')\n",
    "ax.set_ylim([0.85,1.02])\n",
    "ax.set_ylabel(\"Accuracy\")\n",
    "ax.set_xlabel(\"N_estimators\")"
   ]
  },
  {
   "cell_type": "markdown",
   "metadata": {},
   "source": [
    "#### зафиксировала количество деревьев на 44, теперь подберем глубину"
   ]
  },
  {
   "cell_type": "code",
   "execution_count": 25,
   "metadata": {},
   "outputs": [
    {
     "name": "stderr",
     "output_type": "stream",
     "text": [
      "\n",
      "  0%|          | 0/100 [00:00<?, ?it/s]\n",
      "  1%|          | 1/100 [00:00<00:56,  1.77it/s]\n",
      "  2%|▏         | 2/100 [00:01<00:55,  1.76it/s]\n",
      "  3%|▎         | 3/100 [00:01<00:55,  1.75it/s]\n",
      "  4%|▍         | 4/100 [00:02<00:56,  1.71it/s]\n",
      "  5%|▌         | 5/100 [00:02<00:55,  1.71it/s]\n",
      "  6%|▌         | 6/100 [00:03<00:54,  1.73it/s]\n",
      "  7%|▋         | 7/100 [00:04<00:54,  1.71it/s]\n",
      "  8%|▊         | 8/100 [00:04<00:53,  1.72it/s]\n",
      "  9%|▉         | 9/100 [00:05<00:53,  1.71it/s]\n",
      " 10%|█         | 10/100 [00:05<00:52,  1.72it/s]\n",
      " 11%|█         | 11/100 [00:06<00:51,  1.73it/s]\n",
      " 12%|█▏        | 12/100 [00:06<00:50,  1.73it/s]\n",
      " 13%|█▎        | 13/100 [00:07<00:49,  1.75it/s]\n",
      " 14%|█▍        | 14/100 [00:08<00:49,  1.73it/s]\n",
      " 15%|█▌        | 15/100 [00:08<00:49,  1.72it/s]\n",
      " 16%|█▌        | 16/100 [00:09<00:48,  1.73it/s]\n",
      " 17%|█▋        | 17/100 [00:09<00:47,  1.73it/s]\n",
      " 18%|█▊        | 18/100 [00:10<00:47,  1.73it/s]\n",
      " 19%|█▉        | 19/100 [00:10<00:46,  1.74it/s]\n",
      " 20%|██        | 20/100 [00:11<00:47,  1.70it/s]\n",
      " 21%|██        | 21/100 [00:12<00:46,  1.71it/s]\n",
      " 22%|██▏       | 22/100 [00:12<00:45,  1.72it/s]\n",
      " 23%|██▎       | 23/100 [00:13<00:45,  1.69it/s]\n",
      " 24%|██▍       | 24/100 [00:13<00:43,  1.74it/s]\n",
      " 25%|██▌       | 25/100 [00:14<00:41,  1.79it/s]\n",
      " 26%|██▌       | 26/100 [00:14<00:40,  1.81it/s]\n",
      " 27%|██▋       | 27/100 [00:15<00:40,  1.78it/s]\n",
      " 28%|██▊       | 28/100 [00:16<00:40,  1.77it/s]\n",
      " 29%|██▉       | 29/100 [00:16<00:40,  1.76it/s]\n",
      " 30%|███       | 30/100 [00:17<00:39,  1.76it/s]\n",
      " 31%|███       | 31/100 [00:17<00:39,  1.75it/s]\n",
      " 32%|███▏      | 32/100 [00:18<00:39,  1.74it/s]\n",
      " 33%|███▎      | 33/100 [00:19<00:38,  1.74it/s]\n",
      " 34%|███▍      | 34/100 [00:19<00:37,  1.74it/s]\n",
      " 35%|███▌      | 35/100 [00:20<00:37,  1.72it/s]\n",
      " 36%|███▌      | 36/100 [00:20<00:36,  1.73it/s]\n",
      " 37%|███▋      | 37/100 [00:21<00:36,  1.75it/s]\n",
      " 38%|███▊      | 38/100 [00:21<00:35,  1.74it/s]\n",
      " 39%|███▉      | 39/100 [00:22<00:34,  1.76it/s]\n",
      " 40%|████      | 40/100 [00:23<00:34,  1.75it/s]\n",
      " 41%|████      | 41/100 [00:23<00:34,  1.71it/s]\n",
      " 42%|████▏     | 42/100 [00:24<00:33,  1.72it/s]\n",
      " 43%|████▎     | 43/100 [00:24<00:34,  1.64it/s]\n",
      " 44%|████▍     | 44/100 [00:25<00:33,  1.66it/s]\n",
      " 45%|████▌     | 45/100 [00:26<00:32,  1.68it/s]\n",
      " 46%|████▌     | 46/100 [00:26<00:31,  1.70it/s]\n",
      " 47%|████▋     | 47/100 [00:27<00:31,  1.69it/s]\n",
      " 48%|████▊     | 48/100 [00:27<00:30,  1.71it/s]\n",
      " 49%|████▉     | 49/100 [00:28<00:29,  1.71it/s]\n",
      " 50%|█████     | 50/100 [00:28<00:29,  1.72it/s]\n",
      " 51%|█████     | 51/100 [00:29<00:28,  1.71it/s]\n",
      " 52%|█████▏    | 52/100 [00:30<00:27,  1.76it/s]\n",
      " 53%|█████▎    | 53/100 [00:30<00:25,  1.81it/s]\n",
      " 54%|█████▍    | 54/100 [00:31<00:24,  1.86it/s]\n",
      " 55%|█████▌    | 55/100 [00:31<00:24,  1.84it/s]\n",
      " 56%|█████▌    | 56/100 [00:32<00:24,  1.78it/s]\n",
      " 57%|█████▋    | 57/100 [00:32<00:24,  1.75it/s]\n",
      " 58%|█████▊    | 58/100 [00:33<00:24,  1.73it/s]\n",
      " 59%|█████▉    | 59/100 [00:34<00:23,  1.73it/s]\n",
      " 60%|██████    | 60/100 [00:34<00:23,  1.74it/s]\n",
      " 61%|██████    | 61/100 [00:35<00:22,  1.73it/s]\n",
      " 62%|██████▏   | 62/100 [00:35<00:21,  1.75it/s]\n",
      " 63%|██████▎   | 63/100 [00:36<00:21,  1.75it/s]\n",
      " 64%|██████▍   | 64/100 [00:36<00:21,  1.71it/s]\n",
      " 65%|██████▌   | 65/100 [00:37<00:20,  1.71it/s]\n",
      " 66%|██████▌   | 66/100 [00:38<00:19,  1.73it/s]\n",
      " 67%|██████▋   | 67/100 [00:38<00:19,  1.73it/s]\n",
      " 68%|██████▊   | 68/100 [00:39<00:18,  1.73it/s]\n",
      " 69%|██████▉   | 69/100 [00:39<00:17,  1.74it/s]\n",
      " 70%|███████   | 70/100 [00:40<00:17,  1.74it/s]\n",
      " 71%|███████   | 71/100 [00:40<00:16,  1.74it/s]\n",
      " 72%|███████▏  | 72/100 [00:41<00:16,  1.74it/s]\n",
      " 73%|███████▎  | 73/100 [00:42<00:15,  1.74it/s]\n",
      " 74%|███████▍  | 74/100 [00:42<00:14,  1.75it/s]\n",
      " 75%|███████▌  | 75/100 [00:43<00:14,  1.73it/s]\n",
      " 76%|███████▌  | 76/100 [00:43<00:13,  1.72it/s]\n",
      " 77%|███████▋  | 77/100 [00:44<00:13,  1.72it/s]\n",
      " 78%|███████▊  | 78/100 [00:44<00:12,  1.72it/s]\n",
      " 79%|███████▉  | 79/100 [00:45<00:12,  1.71it/s]\n",
      " 80%|████████  | 80/100 [00:46<00:11,  1.75it/s]\n",
      " 81%|████████  | 81/100 [00:46<00:10,  1.80it/s]\n",
      " 82%|████████▏ | 82/100 [00:47<00:09,  1.82it/s]\n",
      " 83%|████████▎ | 83/100 [00:47<00:09,  1.79it/s]\n",
      " 84%|████████▍ | 84/100 [00:48<00:09,  1.77it/s]\n",
      " 85%|████████▌ | 85/100 [00:48<00:08,  1.78it/s]\n",
      " 86%|████████▌ | 86/100 [00:49<00:07,  1.77it/s]\n",
      " 87%|████████▋ | 87/100 [00:50<00:07,  1.76it/s]\n",
      " 88%|████████▊ | 88/100 [00:50<00:06,  1.73it/s]\n",
      " 89%|████████▉ | 89/100 [00:51<00:06,  1.74it/s]\n",
      " 90%|█████████ | 90/100 [00:51<00:05,  1.74it/s]\n",
      " 91%|█████████ | 91/100 [00:52<00:05,  1.74it/s]\n",
      " 92%|█████████▏| 92/100 [00:52<00:04,  1.71it/s]\n",
      " 93%|█████████▎| 93/100 [00:53<00:04,  1.72it/s]\n",
      " 94%|█████████▍| 94/100 [00:54<00:03,  1.73it/s]\n",
      " 95%|█████████▌| 95/100 [00:54<00:02,  1.74it/s]\n",
      " 96%|█████████▌| 96/100 [00:55<00:02,  1.71it/s]\n",
      " 97%|█████████▋| 97/100 [00:55<00:01,  1.70it/s]\n",
      " 98%|█████████▊| 98/100 [00:56<00:01,  1.72it/s]\n",
      " 99%|█████████▉| 99/100 [00:57<00:00,  1.74it/s]\n",
      "100%|██████████| 100/100 [00:57<00:00,  1.75it/s]"
     ]
    },
    {
     "name": "stdout",
     "output_type": "stream",
     "text": [
      "Best accuracy on CV is 0.88% with 23 max_depth\n"
     ]
    }
   ],
   "source": [
    "train_acc = []\n",
    "test_acc = []\n",
    "\n",
    "max_depth_grid = [int(x) for x in np.linspace(10, 110, num = 100)]\n",
    "\n",
    "for max_depth in tqdm(max_depth_grid):\n",
    "    rfc = RandomForestClassifier(n_estimators=44, random_state=42, n_jobs=-1, oob_score=True, max_depth=max_depth)\n",
    "    rfc.fit(X_train, y_train)\n",
    "    train_acc.append(rfc.score(X_train, y_train))\n",
    "    test_acc.append(rfc.score(X_test, y_test))\n",
    "\n",
    "train_acc, test_acc = np.asarray(train_acc), np.asarray(test_acc)\n",
    "print(\"Best accuracy on CV is {:.2f}% with {} max_depth\".format(max(test_acc), \n",
    "                                                        max_depth_grid[np.argmax(test_acc)]))"
   ]
  },
  {
   "cell_type": "code",
   "execution_count": null,
   "metadata": {},
   "outputs": [],
   "source": []
  },
  {
   "cell_type": "code",
   "execution_count": 26,
   "metadata": {},
   "outputs": [
    {
     "name": "stderr",
     "output_type": "stream",
     "text": [
      "\n",
      "  0%|          | 0/12 [00:00<?, ?it/s]\n",
      "  8%|▊         | 1/12 [00:00<00:06,  1.82it/s]\n",
      " 17%|█▋        | 2/12 [00:01<00:05,  1.85it/s]\n",
      " 25%|██▌       | 3/12 [00:01<00:05,  1.79it/s]\n",
      " 33%|███▎      | 4/12 [00:02<00:04,  1.76it/s]\n",
      " 42%|████▏     | 5/12 [00:02<00:03,  1.75it/s]\n",
      " 50%|█████     | 6/12 [00:03<00:03,  1.73it/s]\n",
      " 58%|█████▊    | 7/12 [00:04<00:02,  1.73it/s]\n",
      " 67%|██████▋   | 8/12 [00:04<00:02,  1.89it/s]\n",
      " 75%|███████▌  | 9/12 [00:05<00:01,  1.85it/s]\n",
      " 83%|████████▎ | 10/12 [00:05<00:01,  1.82it/s]\n",
      " 92%|█████████▏| 11/12 [00:06<00:00,  1.81it/s]\n",
      "100%|██████████| 12/12 [00:06<00:00,  1.78it/s]"
     ]
    },
    {
     "name": "stdout",
     "output_type": "stream",
     "text": [
      "Best accuracy on CV is 0.88% with 1 min_samples_leaf\n"
     ]
    },
    {
     "data": {
      "text/plain": [
       "Text(0.5, 0, 'Min_samples_leaf')"
      ]
     },
     "execution_count": 26,
     "metadata": {},
     "output_type": "execute_result"
    },
    {
     "data": {
      "image/png": "[encoded data removed]",
      "text/plain": [
       "<Figure size 576x288 with 1 Axes>"
      ]
     },
     "metadata": {
      "needs_background": "light"
     },
     "output_type": "display_data"
    }
   ],
   "source": [
    "train_acc = []\n",
    "test_acc = []\n",
    "\n",
    "min_samples_leaf_grid = [1, 3, 5, 7, 9, 11, 13, 15, 17, 20, 22, 24]\n",
    "\n",
    "# Обучаем на тренировочном датасете\n",
    "for min_samples_leaf in tqdm(min_samples_leaf_grid):\n",
    "    rfc = RandomForestClassifier(n_estimators=44, random_state=42, n_jobs=-1, \n",
    "                                 oob_score=True, min_samples_leaf=min_samples_leaf, max_depth = 23)\n",
    "    \n",
    "    rfc.fit(X_train, y_train)\n",
    "    train_acc.append(rfc.score(X_train, y_train))\n",
    "    test_acc.append(rfc.score(X_test, y_test))\n",
    "    \n",
    " \n",
    "train_acc, test_acc = np.asarray(train_acc), np.asarray(test_acc)\n",
    "print(\"Best accuracy is {:.2f}% with {} min_samples_leaf\".format(max(test_acc), \n",
    "                                                        min_samples_leaf_grid[np.argmax(test_acc)]))\n",
    "\n",
    "\n",
    "\n",
    "fig, ax = plt.subplots(figsize=(8, 4))\n",
    "ax.plot(min_samples_leaf_grid, train_acc, alpha=0.5, color='blue', label='train')\n",
    "ax.plot(min_samples_leaf_grid, test_acc, alpha=0.5, color='red', label='cv')\n",
    "ax.legend(loc='best')\n",
    "ax.set_ylim([0.80,1.02])\n",
    "\n",
    "ax.set_ylabel(\"Accuracy\")\n",
    "ax.set_xlabel(\"Min_samples_leaf\")"
   ]
  },
  {
   "cell_type": "code",
   "execution_count": 27,
   "metadata": {},
   "outputs": [
    {
     "name": "stderr",
     "output_type": "stream",
     "text": [
      "\n",
      "  0%|          | 0/11 [00:00<?, ?it/s]\n",
      "  9%|▉         | 1/11 [00:00<00:05,  1.75it/s]\n",
      " 18%|█▊        | 2/11 [00:01<00:05,  1.75it/s]\n",
      " 27%|██▋       | 3/11 [00:01<00:04,  1.73it/s]\n",
      " 36%|███▋      | 4/11 [00:02<00:04,  1.72it/s]\n",
      " 45%|████▌     | 5/11 [00:03<00:03,  1.64it/s]\n",
      " 55%|█████▍    | 6/11 [00:03<00:03,  1.62it/s]\n",
      " 64%|██████▎   | 7/11 [00:04<00:02,  1.57it/s]\n",
      " 73%|███████▎  | 8/11 [00:04<00:01,  1.64it/s]\n",
      " 82%|████████▏ | 9/11 [00:05<00:01,  1.61it/s]\n",
      " 91%|█████████ | 10/11 [00:06<00:00,  1.56it/s]\n",
      "100%|██████████| 11/11 [00:06<00:00,  1.52it/s]"
     ]
    },
    {
     "name": "stdout",
     "output_type": "stream",
     "text": [
      "Best accuracy is 0.878182% with 3 max_features\n"
     ]
    },
    {
     "data": {
      "text/plain": [
       "Text(0.5, 0, 'Max_features')"
      ]
     },
     "execution_count": 27,
     "metadata": {},
     "output_type": "execute_result"
    },
    {
     "data": {
      "image/png": "[encoded data removed]",
      "text/plain": [
       "<Figure size 576x288 with 1 Axes>"
      ]
     },
     "metadata": {
      "needs_background": "light"
     },
     "output_type": "display_data"
    }
   ],
   "source": [
    "train_acc = []\n",
    "test_acc = []\n",
    "\n",
    "max_features_grid = [int(x) for x in np.linspace(1, 11, num = 11)]\n",
    "for max_features in tqdm(max_features_grid):\n",
    "    rfc = RandomForestClassifier(n_estimators=44, random_state=42, n_jobs=-1, \n",
    "                                 oob_score=True, max_features=max_features, max_depth = 23)\n",
    "    rfc.fit(X_train, y_train)\n",
    "    \n",
    "    \n",
    "    train_acc.append(rfc.score(X_train, y_train))\n",
    "    test_acc.append(rfc.score(X_test, y_test))\n",
    "    \n",
    "train_acc, test_acc = np.asarray(train_acc), np.asarray(test_acc)\n",
    "print(\"Best accuracy is {:.6f}% with {} max_features\".format(max(test_acc), \n",
    "                                                        max_features_grid[np.argmax(test_acc)]))\n",
    "\n",
    "\n",
    "fig, ax = plt.subplots(figsize=(8, 4))\n",
    "ax.plot(max_features_grid, train_acc, alpha=0.5, color='blue', label='train')\n",
    "ax.plot(max_features_grid, test_acc, alpha=0.5, color='red', label='cv')\n",
    "ax.legend(loc='best')\n",
    "ax.set_ylim([0.85,1.02])\n",
    "ax.set_ylabel(\"Accuracy\")\n",
    "ax.set_xlabel(\"Max_features\")"
   ]
  },
  {
   "cell_type": "code",
   "execution_count": null,
   "metadata": {},
   "outputs": [],
   "source": [
    "data = wine_train.iloc[:,:-1].values\n",
    "target = wine_train.iloc[:,-1].values\n",
    "X_train, X_test, y_train, y_test = train_test_split(data, target, random_state=42)\n",
    "\n",
    "rfc = RandomForestClassifier(n_estimators=44, random_state=42, n_jobs=-1, \n",
    "                                 oob_score=True, max_features=3, max_depth = 23)\n",
    "rfc.fit(X_train, y_train)\n",
    "y_pred = rfc.predict(X_test)\n",
    "precision_score(y_test, y_pred)"
   ]
  },
  {
   "cell_type": "markdown",
   "metadata": {},
   "source": [
    "### GradientBoostingClassifier"
   ]
  },
  {
   "cell_type": "code",
   "execution_count": 7,
   "metadata": {},
   "outputs": [
    {
     "name": "stdout",
     "output_type": "stream",
     "text": [
      "Правильность на обучающем наборе: 1.000\n",
      "Правильность на тестовом наборе: 0.860\n",
      "Точность на обучающем наборе: 0.724\n"
     ]
    }
   ],
   "source": [
    "from sklearn.ensemble import GradientBoostingClassifier\n",
    "\n",
    "data = wine_train.iloc[:,:-1].values\n",
    "target = wine_train.iloc[:,-1].values\n",
    "X_train, X_test, y_train, y_test = train_test_split(data, target, random_state=42)\n",
    "\n",
    "gbrt = GradientBoostingClassifier(random_state=0, max_depth=10) \n",
    "gbrt.fit(X_train, y_train)\n",
    "y_pred = gbrt.predict(X_test)\n",
    "\n",
    "print('Правильность на обучающем наборе: {:.3f}'.format(gbrt.score(X_train, y_train)))\n",
    "print('Правильность на тестовом наборе: {:.3f}'.format(gbrt.score(X_test, y_test)))\n",
    "print('Точность на обучающем наборе: {:.3f}'.format(precision_score(y_test, y_pred)))"
   ]
  },
  {
   "cell_type": "markdown",
   "metadata": {},
   "source": [
    "подбираю количество деревьев "
   ]
  },
  {
   "cell_type": "code",
   "execution_count": 8,
   "metadata": {},
   "outputs": [
    {
     "name": "stderr",
     "output_type": "stream",
     "text": [
      "100%|██████████| 100/100 [08:11<00:00, 13.10s/it]\n"
     ]
    },
    {
     "name": "stdout",
     "output_type": "stream",
     "text": [
      "Best accuracy on CV is 0.8718% with 735 n_estimators\n"
     ]
    }
   ],
   "source": [
    "data = wine_train.iloc[:,:-1].values\n",
    "target = wine_train.iloc[:,-1].values\n",
    "X_train, X_test, y_train, y_test = train_test_split(data, target, random_state=42)\n",
    "\n",
    "train_acc = []\n",
    "test_acc = []\n",
    "\n",
    "n_estimators = [int(x) for x in np.linspace(start = 50, stop = 3000, num = 100)]\n",
    "\n",
    "for i in tqdm(n_estimators):\n",
    "    gb = GradientBoostingClassifier(random_state=42, n_estimators=i) \n",
    "    gb.fit(X_train, y_train)\n",
    "    \n",
    "    train_acc.append(gb.score(X_train, y_train))\n",
    "    test_acc.append(gb.score(X_test, y_test))\n",
    "    \n",
    "train_acc, test_acc  = np.asarray(train_acc), np.asarray(test_acc)\n",
    "print(\"Best accuracy is {:.4f}% with {} n_estimators\".format(max(test_acc), \n",
    "                                                        n_estimators[np.argmax(test_acc)]))"
   ]
  },
  {
   "cell_type": "code",
   "execution_count": 9,
   "metadata": {},
   "outputs": [
    {
     "data": {
      "text/plain": [
       "Text(0.5, 0, 'N_estimators')"
      ]
     },
     "execution_count": 9,
     "metadata": {},
     "output_type": "execute_result"
    },
    {
     "data": {
      "image/png": "[encoded data removed]",
      "text/plain": [
       "<Figure size 576x288 with 1 Axes>"
      ]
     },
     "metadata": {
      "needs_background": "light"
     },
     "output_type": "display_data"
    }
   ],
   "source": [
    "plt.style.use('ggplot')\n",
    "%matplotlib inline\n",
    "fig, ax = plt.subplots(figsize=(8, 4))\n",
    "ax.plot(n_estimators, train_acc, alpha=0.5, color='blue', label='train')\n",
    "ax.plot(n_estimators, test_acc, alpha=0.5, color='red', label='cv')\n",
    "ax.legend(loc='best')\n",
    "ax.set_ylim([0.70,1.02])\n",
    "ax.set_ylabel(\"Accuracy\")\n",
    "ax.set_xlabel(\"N_estimators\")"
   ]
  },
  {
   "cell_type": "markdown",
   "metadata": {},
   "source": [
    "видим, что пики приходятся между 700 и 1000, посмотрим детальнее"
   ]
  },
  {
   "cell_type": "code",
   "execution_count": 10,
   "metadata": {},
   "outputs": [
    {
     "name": "stderr",
     "output_type": "stream",
     "text": [
      "100%|██████████| 30/30 [01:52<00:00,  4.32s/it]\n"
     ]
    },
    {
     "name": "stdout",
     "output_type": "stream",
     "text": [
      "Best accuracy on CV is 0.8727% with 979 n_estimators\n"
     ]
    },
    {
     "data": {
      "text/plain": [
       "Text(0.5, 0, 'N_estimators')"
      ]
     },
     "execution_count": 10,
     "metadata": {},
     "output_type": "execute_result"
    },
    {
     "data": {
      "image/png": "[encoded data removed]",
      "text/plain": [
       "<Figure size 576x288 with 1 Axes>"
      ]
     },
     "metadata": {
      "needs_background": "light"
     },
     "output_type": "display_data"
    }
   ],
   "source": [
    "data = wine_train.iloc[:,:-1].values\n",
    "target = wine_train.iloc[:,-1].values\n",
    "X_train, X_test, y_train, y_test = train_test_split(data, target, random_state=42)\n",
    "\n",
    "train_acc = []\n",
    "test_acc = []\n",
    "\n",
    "n_estimators = [int(x) for x in np.linspace(start = 700, stop = 1000, num = 30)]\n",
    "\n",
    "for i in tqdm(n_estimators):\n",
    "    gb = GradientBoostingClassifier(random_state=42, n_estimators=i) \n",
    "    gb.fit(X_train, y_train)\n",
    "    \n",
    "    train_acc.append(gb.score(X_train, y_train))\n",
    "    test_acc.append(gb.score(X_test, y_test))\n",
    "    \n",
    "train_acc, test_acc  = np.asarray(train_acc), np.asarray(test_acc)\n",
    "print(\"Best accuracy is {:.4f}% with {} n_estimators\".format(max(test_acc), \n",
    "                                                        n_estimators[np.argmax(test_acc)]))\n",
    "\n",
    "plt.style.use('ggplot')\n",
    "%matplotlib inline\n",
    "fig, ax = plt.subplots(figsize=(8, 4))\n",
    "ax.plot(n_estimators, train_acc, alpha=0.5, color='blue', label='train')\n",
    "ax.plot(n_estimators, test_acc, alpha=0.5, color='red', label='cv')\n",
    "ax.legend(loc='best')\n",
    "ax.set_ylim([0.70,1.02])\n",
    "ax.set_ylabel(\"Accuracy\")\n",
    "ax.set_xlabel(\"N_estimators\")"
   ]
  },
  {
   "cell_type": "code",
   "execution_count": null,
   "metadata": {},
   "outputs": [],
   "source": []
  },
  {
   "cell_type": "markdown",
   "metadata": {},
   "source": [
    "зафиксируем количество деревьев на 979, подбираю max_depth"
   ]
  },
  {
   "cell_type": "code",
   "execution_count": 12,
   "metadata": {},
   "outputs": [
    {
     "name": "stderr",
     "output_type": "stream",
     "text": [
      "\n",
      "  0%|          | 0/25 [00:00<?, ?it/s]\n",
      "  4%|▍         | 1/25 [00:01<00:39,  1.66s/it]\n",
      "  8%|▊         | 2/25 [00:06<00:57,  2.48s/it]\n",
      " 12%|█▏        | 3/25 [00:15<01:40,  4.56s/it]\n",
      " 16%|█▌        | 4/25 [00:25<02:08,  6.10s/it]\n",
      " 20%|██        | 5/25 [00:33<02:18,  6.92s/it]\n",
      " 24%|██▍       | 6/25 [00:42<02:19,  7.36s/it]\n",
      " 28%|██▊       | 7/25 [00:49<02:09,  7.19s/it]\n",
      " 32%|███▏      | 8/25 [00:55<01:55,  6.82s/it]\n",
      " 36%|███▌      | 9/25 [01:00<01:43,  6.46s/it]\n",
      " 40%|████      | 10/25 [01:05<01:31,  6.07s/it]\n",
      " 44%|████▍     | 11/25 [01:10<01:20,  5.76s/it]\n",
      " 48%|████▊     | 12/25 [01:15<01:11,  5.53s/it]\n",
      " 52%|█████▏    | 13/25 [01:20<01:04,  5.36s/it]\n",
      " 56%|█████▌    | 14/25 [01:25<00:57,  5.27s/it]\n",
      " 60%|██████    | 15/25 [01:30<00:51,  5.19s/it]\n",
      " 64%|██████▍   | 16/25 [01:35<00:46,  5.13s/it]\n",
      " 68%|██████▊   | 17/25 [01:40<00:40,  5.09s/it]\n",
      " 72%|███████▏  | 18/25 [01:45<00:35,  5.07s/it]\n",
      " 76%|███████▌  | 19/25 [01:51<00:30,  5.14s/it]\n",
      " 80%|████████  | 20/25 [01:56<00:25,  5.15s/it]\n",
      " 84%|████████▍ | 21/25 [02:01<00:20,  5.12s/it]\n",
      " 88%|████████▊ | 22/25 [02:06<00:15,  5.09s/it]\n",
      " 92%|█████████▏| 23/25 [02:11<00:10,  5.05s/it]\n",
      " 96%|█████████▌| 24/25 [02:16<00:05,  5.06s/it]\n",
      "100%|██████████| 25/25 [02:21<00:00,  5.09s/it]"
     ]
    },
    {
     "name": "stdout",
     "output_type": "stream",
     "text": [
      "Best accuracy is 0.8727% with 3 max_depth\n"
     ]
    },
    {
     "data": {
      "text/plain": [
       "Text(0.5, 0, 'max_depth')"
      ]
     },
     "execution_count": 12,
     "metadata": {},
     "output_type": "execute_result"
    },
    {
     "data": {
      "image/png": "[encoded data removed]",
      "text/plain": [
       "<Figure size 576x288 with 1 Axes>"
      ]
     },
     "metadata": {
      "needs_background": "light"
     },
     "output_type": "display_data"
    }
   ],
   "source": [
    "data = wine_train.iloc[:,:-1].values\n",
    "target = wine_train.iloc[:,-1].values\n",
    "X_train, X_test, y_train, y_test = train_test_split(data, target, random_state=42)\n",
    "\n",
    "train_acc = []\n",
    "test_acc = []\n",
    "\n",
    "\n",
    "max_depth = [int(x) for x in np.linspace(start = 1, stop = 51, num = 25)]\n",
    "\n",
    "for i in tqdm(max_depth):\n",
    "    gb = GradientBoostingClassifier(n_estimators =979, random_state=42, max_depth=i) \n",
    "    gb.fit(X_train, y_train)\n",
    "    \n",
    "    train_acc.append(gb.score(X_train, y_train))\n",
    "    test_acc.append(gb.score(X_test, y_test))\n",
    "    \n",
    "train_acc, test_acc  = np.asarray(train_acc), np.asarray(test_acc)\n",
    "print(\"Best accuracy is {:.4f}% with {} max_depth\".format(max(test_acc), \n",
    "                                                        max_depth[np.argmax(test_acc)]))\n",
    "\n",
    "\n",
    "plt.style.use('ggplot')\n",
    "%matplotlib inline\n",
    "fig, ax = plt.subplots(figsize=(8, 4))\n",
    "ax.plot(max_depth, train_acc, alpha=0.5, color='blue', label='train')\n",
    "ax.plot(max_depth, test_acc, alpha=0.5, color='red', label='cv')\n",
    "ax.legend(loc='best')\n",
    "ax.set_ylim([0.70,1.02])\n",
    "ax.set_ylabel(\"Accuracy\")\n",
    "ax.set_xlabel(\"max_depth\")"
   ]
  },
  {
   "cell_type": "markdown",
   "metadata": {},
   "source": [
    "подбираю learning_rate"
   ]
  },
  {
   "cell_type": "code",
   "execution_count": 13,
   "metadata": {},
   "outputs": [
    {
     "name": "stderr",
     "output_type": "stream",
     "text": [
      "\n",
      "  0%|          | 0/10 [00:00<?, ?it/s]\n",
      " 10%|█         | 1/10 [00:04<00:39,  4.34s/it]\n",
      " 20%|██        | 2/10 [00:08<00:34,  4.36s/it]\n",
      " 30%|███       | 3/10 [00:13<00:30,  4.36s/it]\n",
      " 40%|████      | 4/10 [00:17<00:26,  4.36s/it]\n",
      " 50%|█████     | 5/10 [00:21<00:21,  4.39s/it]\n",
      " 60%|██████    | 6/10 [00:26<00:17,  4.35s/it]\n",
      " 70%|███████   | 7/10 [00:29<00:12,  4.18s/it]\n",
      " 80%|████████  | 8/10 [00:33<00:07,  3.96s/it]\n",
      " 90%|█████████ | 9/10 [00:36<00:03,  3.73s/it]\n",
      "100%|██████████| 10/10 [00:40<00:00,  3.76s/it]"
     ]
    },
    {
     "name": "stdout",
     "output_type": "stream",
     "text": [
      "Best accuracy is 0.8727% with 0.1 learning_rate\n"
     ]
    },
    {
     "data": {
      "text/plain": [
       "Text(0.5, 0, 'learning_rate')"
      ]
     },
     "execution_count": 13,
     "metadata": {},
     "output_type": "execute_result"
    },
    {
     "data": {
      "image/png": "[encoded data removed]",
      "text/plain": [
       "<Figure size 576x288 with 1 Axes>"
      ]
     },
     "metadata": {
      "needs_background": "light"
     },
     "output_type": "display_data"
    }
   ],
   "source": [
    "#learning_rate\n",
    "\n",
    "train_acc = []\n",
    "test_acc = []\n",
    "\n",
    "\n",
    "learning_rate = [0.1,0.2,0.3,0.4,0.5,0.6,0.7,0.8,0.9,1]\n",
    "\n",
    "for i in tqdm(learning_rate):\n",
    "    gb = GradientBoostingClassifier(n_estimators = 979, random_state=42,  max_depth=3, learning_rate=i) \n",
    "    gb.fit(X_train, y_train)\n",
    "    \n",
    "    train_acc.append(gb.score(X_train, y_train))\n",
    "    test_acc.append(gb.score(X_test, y_test))\n",
    "    \n",
    "train_acc, test_acc  = np.asarray(train_acc), np.asarray(test_acc)\n",
    "print(\"Best accuracy is {:.4f}% with {} learning_rate\".format(max(test_acc), \n",
    "                                                        learning_rate[np.argmax(test_acc)]))\n",
    "\n",
    "\n",
    "plt.style.use('ggplot')\n",
    "%matplotlib inline\n",
    "fig, ax = plt.subplots(figsize=(8, 4))\n",
    "ax.plot(learning_rate, train_acc, alpha=0.5, color='blue', label='train')\n",
    "ax.plot(learning_rate, test_acc, alpha=0.5, color='red', label='cv')\n",
    "ax.legend(loc='best')\n",
    "ax.set_ylim([0.70,1.02])\n",
    "ax.set_ylabel(\"Accuracy\")\n",
    "ax.set_xlabel(\"learning_rate\")\n"
   ]
  },
  {
   "cell_type": "code",
   "execution_count": null,
   "metadata": {},
   "outputs": [],
   "source": []
  },
  {
   "cell_type": "markdown",
   "metadata": {},
   "source": [
    "# Блок моделей"
   ]
  },
  {
   "cell_type": "code",
   "execution_count": 44,
   "metadata": {},
   "outputs": [],
   "source": [
    "from sklearn.model_selection import train_test_split\n",
    "from sklearn.ensemble import GradientBoostingClassifier, RandomForestClassifier \n",
    "from sklearn.metrics import precision_score"
   ]
  },
  {
   "cell_type": "code",
   "execution_count": 45,
   "metadata": {},
   "outputs": [
    {
     "name": "stdout",
     "output_type": "stream",
     "text": [
      "Правильность на обучающем наборе: 0.994\n",
      "Правильность на тестовом наборе: 0.873\n",
      "Точность на тестовом наборе: 0.772\n"
     ]
    }
   ],
   "source": [
    "data = wine_train.iloc[:,:-1].values\n",
    "target = wine_train.iloc[:,-1].values\n",
    "X_train, X_test, y_train, y_test = train_test_split(data, target, random_state=42)\n",
    "\n",
    "gb = GradientBoostingClassifier(n_estimators = 979, random_state=42,  max_depth=3, learning_rate=0.1) \n",
    "gb.fit(X_train, y_train)\n",
    "y_pred = gb.predict(X_test)\n",
    "\n",
    "print('Правильность на обучающем наборе: {:.3f}'.format(gb.score(X_train, y_train)))\n",
    "print('Правильность на тестовом наборе: {:.3f}'.format(gb.score(X_test, y_test)))\n",
    "print('Точность на тестовом наборе: {:.3f}'.format(precision_score(y_test, y_pred)))"
   ]
  },
  {
   "cell_type": "code",
   "execution_count": 46,
   "metadata": {},
   "outputs": [
    {
     "name": "stdout",
     "output_type": "stream",
     "text": [
      "Правильность на обучающем наборе: 0.994\n",
      "Правильность на тестовом наборе: 0.873\n",
      "Точность на тестовом наборе: 0.827\n"
     ]
    }
   ],
   "source": [
    "data = wine_train.iloc[:,:-1].values\n",
    "target = wine_train.iloc[:,-1].values\n",
    "X_train, X_test, y_train, y_test = train_test_split(data, target, random_state=42)\n",
    "\n",
    "rf = RandomForestClassifier(n_estimators=44, random_state=42, n_jobs=-1, \n",
    "                                 oob_score=True, max_features=3, max_depth = 23)\n",
    "rf.fit(X_train, y_train)\n",
    "y_pred = rf.predict(X_test)\n",
    "\n",
    "print('Правильность на обучающем наборе: {:.3f}'.format(gb.score(X_train, y_train)))\n",
    "print('Правильность на тестовом наборе: {:.3f}'.format(gb.score(X_test, y_test)))\n",
    "print('Точность на тестовом наборе: {:.3f}'.format(precision_score(y_test, y_pred)))"
   ]
  },
  {
   "cell_type": "markdown",
   "metadata": {},
   "source": [
    "# Блок для проверки "
   ]
  },
  {
   "cell_type": "code",
   "execution_count": 47,
   "metadata": {},
   "outputs": [
    {
     "name": "stdout",
     "output_type": "stream",
     "text": [
      "Точность на тестовом наборе: 0.70\n"
     ]
    }
   ],
   "source": [
    "wine_test = pd.read_csv('test_wine.csv')\n",
    "wine_test['quality'] = wine_test['quality'].apply(lambda x: 1 if (x > 6 ) else 0)\n",
    "data = wine_test.iloc[:,:-1].values\n",
    "target = wine_test.iloc[:,-1].values\n",
    "\n",
    "y_pred = gb.predict(data)\n",
    "precision_score(target, y_pred)\n",
    "\n",
    "print('Точность на тестовом наборе: {:.2f}'.format(precision_score(target, y_pred)))"
   ]
  },
  {
   "cell_type": "code",
   "execution_count": 48,
   "metadata": {},
   "outputs": [
    {
     "name": "stdout",
     "output_type": "stream",
     "text": [
      "Точность на тестовом наборе: 0.84\n"
     ]
    }
   ],
   "source": [
    "wine_test = pd.read_csv('test_wine.csv')\n",
    "wine_test['quality'] = wine_test['quality'].apply(lambda x: 1 if (x > 6 ) else 0)\n",
    "data = wine_test.iloc[:,:-1].values\n",
    "target = wine_test.iloc[:,-1].values\n",
    "\n",
    "y_pred = rf.predict(data)\n",
    "precision_score(target, y_pred)\n",
    "\n",
    "print('Точность на тестовом наборе: {:.2f}'.format(precision_score(target, y_pred)))"
   ]
  }
 ],
 "metadata": {
  "kernelspec": {
   "display_name": "Python 2",
   "language": "python",
   "name": "python2"
  },
  "language_info": {
   "codemirror_mode": {
    "name": "ipython",
    "version": 2
   },
   "file_extension": ".py",
   "mimetype": "text/x-python",
   "name": "python",
   "nbconvert_exporter": "python",
   "pygments_lexer": "ipython2",
   "version": "2.7.15"
  }
 },
 "nbformat": 4,
 "nbformat_minor": 2
}
